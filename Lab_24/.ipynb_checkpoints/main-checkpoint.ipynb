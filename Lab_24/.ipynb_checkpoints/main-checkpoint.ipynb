{
 "cells": [
  {
   "cell_type": "markdown",
   "metadata": {},
   "source": [
    "# Intrduction to NumPy\n",
    "\n",
    "\n",
    "#### 1. Import NumPy under the name np."
   ]
  },
  {
   "cell_type": "code",
   "execution_count": 3,
   "metadata": {},
   "outputs": [],
   "source": [
    "import numpy as np"
   ]
  },
  {
   "cell_type": "markdown",
   "metadata": {},
   "source": [
    "#### 2. Print your NumPy version."
   ]
  },
  {
   "cell_type": "code",
   "execution_count": 4,
   "metadata": {},
   "outputs": [
    {
     "data": {
      "text/plain": [
       "'1.21.5'"
      ]
     },
     "execution_count": 4,
     "metadata": {},
     "output_type": "execute_result"
    }
   ],
   "source": [
    "np.__version__"
   ]
  },
  {
   "cell_type": "markdown",
   "metadata": {},
   "source": [
    "#### 3. Generate a 2x3x5 3-dimensional array with random values. Assign the array to variable *a*.\n",
    "**Challenge**: there are at least three easy ways that use numpy to generate random arrays. How many ways can you find?"
   ]
  },
  {
   "cell_type": "code",
   "execution_count": 12,
   "metadata": {},
   "outputs": [
    {
     "data": {
      "text/plain": [
       "array([[[29, 77, 78, 76, 33],\n",
       "        [48, 52, 50, 72, 94],\n",
       "        [65, 41, 40, 86, 61]],\n",
       "\n",
       "       [[ 6, 36, 13, 45,  2],\n",
       "        [62,  2,  3, 94, 10],\n",
       "        [63, 23, 83, 16, 78]]])"
      ]
     },
     "execution_count": 12,
     "metadata": {},
     "output_type": "execute_result"
    }
   ],
   "source": [
    "a=np.random.randint(0, 100,size=(2, 3, 5))\n",
    "a"
   ]
  },
  {
   "cell_type": "code",
   "execution_count": 15,
   "metadata": {},
   "outputs": [
    {
     "data": {
      "text/plain": [
       "array([[[0.56410781, 0.20797502, 0.54681392, 0.47598874, 0.33771962],\n",
       "        [0.6626352 , 0.06115377, 0.37277143, 0.43410935, 0.97386762],\n",
       "        [0.69819935, 0.62578862, 0.15594451, 0.43509243, 0.3712351 ]],\n",
       "\n",
       "       [[0.94039755, 0.45281763, 0.85509999, 0.65361185, 0.87928696],\n",
       "        [0.00333544, 0.92478824, 0.95129375, 0.15493552, 0.06571068],\n",
       "        [0.31728336, 0.58555545, 0.52413135, 0.43512262, 0.91267715]]])"
      ]
     },
     "execution_count": 15,
     "metadata": {},
     "output_type": "execute_result"
    }
   ],
   "source": [
    "a=np.random.random((2,3,5))\n",
    "a"
   ]
  },
  {
   "cell_type": "code",
   "execution_count": 16,
   "metadata": {},
   "outputs": [
    {
     "data": {
      "text/plain": [
       "array([[[0.56997665, 0.93413675, 0.57615435, 0.18518019, 0.98207871],\n",
       "        [0.99850326, 0.44646811, 0.76243056, 0.63656342, 0.18524397],\n",
       "        [0.57920196, 0.65424193, 0.59374037, 0.54147664, 0.59187907]],\n",
       "\n",
       "       [[0.70899117, 0.77097797, 0.0890502 , 0.91349549, 0.44962501],\n",
       "        [0.69662112, 0.38763905, 0.05105715, 0.66364126, 0.36566056],\n",
       "        [0.55277996, 0.26658984, 0.20387608, 0.29620495, 0.84186763]]])"
      ]
     },
     "execution_count": 16,
     "metadata": {},
     "output_type": "execute_result"
    }
   ],
   "source": [
    "a=np.random.rand(2, 3, 5)\n",
    "a"
   ]
  },
  {
   "cell_type": "markdown",
   "metadata": {},
   "source": [
    "#### 4. Print *a*.\n"
   ]
  },
  {
   "cell_type": "code",
   "execution_count": 17,
   "metadata": {},
   "outputs": [
    {
     "name": "stdout",
     "output_type": "stream",
     "text": [
      "[[[0.56997665 0.93413675 0.57615435 0.18518019 0.98207871]\n",
      "  [0.99850326 0.44646811 0.76243056 0.63656342 0.18524397]\n",
      "  [0.57920196 0.65424193 0.59374037 0.54147664 0.59187907]]\n",
      "\n",
      " [[0.70899117 0.77097797 0.0890502  0.91349549 0.44962501]\n",
      "  [0.69662112 0.38763905 0.05105715 0.66364126 0.36566056]\n",
      "  [0.55277996 0.26658984 0.20387608 0.29620495 0.84186763]]]\n"
     ]
    }
   ],
   "source": [
    "print(a)"
   ]
  },
  {
   "cell_type": "markdown",
   "metadata": {},
   "source": [
    "#### 5. Create a 5x2x3 3-dimensional array with all values equaling 1. Assign the array to variable *b*."
   ]
  },
  {
   "cell_type": "code",
   "execution_count": 26,
   "metadata": {},
   "outputs": [],
   "source": [
    "b=np.ones(shape=(5, 2, 3))"
   ]
  },
  {
   "cell_type": "markdown",
   "metadata": {},
   "source": [
    "#### 6. Print *b*.\n"
   ]
  },
  {
   "cell_type": "code",
   "execution_count": 27,
   "metadata": {},
   "outputs": [
    {
     "data": {
      "text/plain": [
       "array([[[1., 1., 1.],\n",
       "        [1., 1., 1.]],\n",
       "\n",
       "       [[1., 1., 1.],\n",
       "        [1., 1., 1.]],\n",
       "\n",
       "       [[1., 1., 1.],\n",
       "        [1., 1., 1.]],\n",
       "\n",
       "       [[1., 1., 1.],\n",
       "        [1., 1., 1.]],\n",
       "\n",
       "       [[1., 1., 1.],\n",
       "        [1., 1., 1.]]])"
      ]
     },
     "execution_count": 27,
     "metadata": {},
     "output_type": "execute_result"
    }
   ],
   "source": [
    "b"
   ]
  },
  {
   "cell_type": "markdown",
   "metadata": {},
   "source": [
    "#### 7. Do *a* and *b* have the same size? How do you prove that in Python code?"
   ]
  },
  {
   "cell_type": "code",
   "execution_count": 28,
   "metadata": {},
   "outputs": [
    {
     "name": "stdout",
     "output_type": "stream",
     "text": [
      "30\n",
      "30\n"
     ]
    }
   ],
   "source": [
    "print(a.size)\n",
    "print(b.size)"
   ]
  },
  {
   "cell_type": "markdown",
   "metadata": {},
   "source": [
    "#### 8. Are you able to add *a* and *b*? Why or why not?\n"
   ]
  },
  {
   "cell_type": "code",
   "execution_count": 29,
   "metadata": {},
   "outputs": [
    {
     "ename": "ValueError",
     "evalue": "operands could not be broadcast together with shapes (2,3,5) (5,2,3) ",
     "output_type": "error",
     "traceback": [
      "\u001b[1;31m---------------------------------------------------------------------------\u001b[0m",
      "\u001b[1;31mValueError\u001b[0m                                Traceback (most recent call last)",
      "\u001b[1;32m~\\AppData\\Local\\Temp\\ipykernel_10496\\1214135543.py\u001b[0m in \u001b[0;36m<module>\u001b[1;34m\u001b[0m\n\u001b[1;32m----> 1\u001b[1;33m \u001b[0mc\u001b[0m\u001b[1;33m=\u001b[0m\u001b[0ma\u001b[0m\u001b[1;33m+\u001b[0m\u001b[0mb\u001b[0m\u001b[1;33m\u001b[0m\u001b[1;33m\u001b[0m\u001b[0m\n\u001b[0m\u001b[0;32m      2\u001b[0m \u001b[0mc\u001b[0m\u001b[1;33m\u001b[0m\u001b[1;33m\u001b[0m\u001b[0m\n",
      "\u001b[1;31mValueError\u001b[0m: operands could not be broadcast together with shapes (2,3,5) (5,2,3) "
     ]
    }
   ],
   "source": [
    "c=a+b\n",
    "c\n",
    "#different shapes"
   ]
  },
  {
   "cell_type": "markdown",
   "metadata": {},
   "source": [
    "#### 9. Transpose *b* so that it has the same structure of *a* (i.e. become a 2x3x5 array). Assign the transposed array to variable *c*."
   ]
  },
  {
   "cell_type": "code",
   "execution_count": 32,
   "metadata": {},
   "outputs": [
    {
     "data": {
      "text/plain": [
       "array([[[1., 1., 1., 1., 1.],\n",
       "        [1., 1., 1., 1., 1.],\n",
       "        [1., 1., 1., 1., 1.]],\n",
       "\n",
       "       [[1., 1., 1., 1., 1.],\n",
       "        [1., 1., 1., 1., 1.],\n",
       "        [1., 1., 1., 1., 1.]]])"
      ]
     },
     "execution_count": 32,
     "metadata": {},
     "output_type": "execute_result"
    }
   ],
   "source": [
    "c=np.reshape(b, (2,3,5))\n",
    "c"
   ]
  },
  {
   "cell_type": "markdown",
   "metadata": {},
   "source": [
    "#### 10. Try to add *a* and *c*. Now it should work. Assign the sum to variable *d*. But why does it work now?"
   ]
  },
  {
   "cell_type": "code",
   "execution_count": 33,
   "metadata": {},
   "outputs": [
    {
     "data": {
      "text/plain": [
       "array([[[1.56997665, 1.93413675, 1.57615435, 1.18518019, 1.98207871],\n",
       "        [1.99850326, 1.44646811, 1.76243056, 1.63656342, 1.18524397],\n",
       "        [1.57920196, 1.65424193, 1.59374037, 1.54147664, 1.59187907]],\n",
       "\n",
       "       [[1.70899117, 1.77097797, 1.0890502 , 1.91349549, 1.44962501],\n",
       "        [1.69662112, 1.38763905, 1.05105715, 1.66364126, 1.36566056],\n",
       "        [1.55277996, 1.26658984, 1.20387608, 1.29620495, 1.84186763]]])"
      ]
     },
     "execution_count": 33,
     "metadata": {},
     "output_type": "execute_result"
    }
   ],
   "source": [
    "d=a+c\n",
    "d"
   ]
  },
  {
   "cell_type": "markdown",
   "metadata": {},
   "source": [
    "#### 11. Print *a* and *d*. Notice the difference and relation of the two array in terms of the values? Explain."
   ]
  },
  {
   "cell_type": "code",
   "execution_count": 36,
   "metadata": {},
   "outputs": [
    {
     "name": "stdout",
     "output_type": "stream",
     "text": [
      "[[[0.56997665 0.93413675 0.57615435 0.18518019 0.98207871]\n",
      "  [0.99850326 0.44646811 0.76243056 0.63656342 0.18524397]\n",
      "  [0.57920196 0.65424193 0.59374037 0.54147664 0.59187907]]\n",
      "\n",
      " [[0.70899117 0.77097797 0.0890502  0.91349549 0.44962501]\n",
      "  [0.69662112 0.38763905 0.05105715 0.66364126 0.36566056]\n",
      "  [0.55277996 0.26658984 0.20387608 0.29620495 0.84186763]]]\n",
      "___________________________________________________________\n",
      "[[[1.56997665 1.93413675 1.57615435 1.18518019 1.98207871]\n",
      "  [1.99850326 1.44646811 1.76243056 1.63656342 1.18524397]\n",
      "  [1.57920196 1.65424193 1.59374037 1.54147664 1.59187907]]\n",
      "\n",
      " [[1.70899117 1.77097797 1.0890502  1.91349549 1.44962501]\n",
      "  [1.69662112 1.38763905 1.05105715 1.66364126 1.36566056]\n",
      "  [1.55277996 1.26658984 1.20387608 1.29620495 1.84186763]]]\n"
     ]
    }
   ],
   "source": [
    "print(a)\n",
    "print('___________________________________________________________')\n",
    "print(d)\n",
    "#since one array has all values = to 1, adding it to another array will give results that look the same (1+x)"
   ]
  },
  {
   "cell_type": "markdown",
   "metadata": {},
   "source": [
    "#### 12. Multiply *a* and *c*. Assign the result to *e*."
   ]
  },
  {
   "cell_type": "code",
   "execution_count": 37,
   "metadata": {},
   "outputs": [
    {
     "data": {
      "text/plain": [
       "array([[[0.56997665, 0.93413675, 0.57615435, 0.18518019, 0.98207871],\n",
       "        [0.99850326, 0.44646811, 0.76243056, 0.63656342, 0.18524397],\n",
       "        [0.57920196, 0.65424193, 0.59374037, 0.54147664, 0.59187907]],\n",
       "\n",
       "       [[0.70899117, 0.77097797, 0.0890502 , 0.91349549, 0.44962501],\n",
       "        [0.69662112, 0.38763905, 0.05105715, 0.66364126, 0.36566056],\n",
       "        [0.55277996, 0.26658984, 0.20387608, 0.29620495, 0.84186763]]])"
      ]
     },
     "execution_count": 37,
     "metadata": {},
     "output_type": "execute_result"
    }
   ],
   "source": [
    "e=a*c\n",
    "e"
   ]
  },
  {
   "cell_type": "markdown",
   "metadata": {},
   "source": [
    "#### 13. Does *e* equal to *a*? Why or why not?\n"
   ]
  },
  {
   "cell_type": "code",
   "execution_count": 38,
   "metadata": {},
   "outputs": [
    {
     "data": {
      "text/plain": [
       "array([[[ True,  True,  True,  True,  True],\n",
       "        [ True,  True,  True,  True,  True],\n",
       "        [ True,  True,  True,  True,  True]],\n",
       "\n",
       "       [[ True,  True,  True,  True,  True],\n",
       "        [ True,  True,  True,  True,  True],\n",
       "        [ True,  True,  True,  True,  True]]])"
      ]
     },
     "execution_count": 38,
     "metadata": {},
     "output_type": "execute_result"
    }
   ],
   "source": [
    "e==a\n",
    "#yes since c values are all = to 1"
   ]
  },
  {
   "cell_type": "markdown",
   "metadata": {},
   "source": [
    "#### 14. Identify the max, min, and mean values in *d*. Assign those values to variables *d_max*, *d_min* and *d_mean*."
   ]
  },
  {
   "cell_type": "code",
   "execution_count": 41,
   "metadata": {},
   "outputs": [
    {
     "data": {
      "text/plain": [
       "1.5498451130446005"
      ]
     },
     "execution_count": 41,
     "metadata": {},
     "output_type": "execute_result"
    }
   ],
   "source": [
    "d_max=np.max(d)\n",
    "d_min=np.min(d)\n",
    "d_mean=np.mean(d)\n",
    "d_mean"
   ]
  },
  {
   "cell_type": "markdown",
   "metadata": {},
   "source": [
    "#### 15. Now we want to label the values in *d*. First create an empty array *f* with the same shape (i.e. 2x3x5) as *d* using `np.empty`.\n"
   ]
  },
  {
   "cell_type": "code",
   "execution_count": 44,
   "metadata": {},
   "outputs": [
    {
     "data": {
      "text/plain": [
       "array([[[0.56997665, 0.93413675, 0.57615435, 0.18518019, 0.98207871],\n",
       "        [0.99850326, 0.44646811, 0.76243056, 0.63656342, 0.18524397],\n",
       "        [0.57920196, 0.65424193, 0.59374037, 0.54147664, 0.59187907]],\n",
       "\n",
       "       [[0.70899117, 0.77097797, 0.0890502 , 0.91349549, 0.44962501],\n",
       "        [0.69662112, 0.38763905, 0.05105715, 0.66364126, 0.36566056],\n",
       "        [0.55277996, 0.26658984, 0.20387608, 0.29620495, 0.84186763]]])"
      ]
     },
     "execution_count": 44,
     "metadata": {},
     "output_type": "execute_result"
    }
   ],
   "source": [
    "f=np.empty(shape=(2,3,5))\n",
    "f"
   ]
  },
  {
   "cell_type": "markdown",
   "metadata": {},
   "source": [
    "#### 16. Populate the values in *f*. \n",
    "\n",
    "For each value in *d*, if it's larger than *d_min* but smaller than *d_mean*, assign 25 to the corresponding value in *f*. If a value in *d* is larger than *d_mean* but smaller than *d_max*, assign 75 to the corresponding value in *f*. If a value equals to *d_mean*, assign 50 to the corresponding value in *f*. Assign 0 to the corresponding value(s) in *f* for *d_min* in *d*. Assign 100 to the corresponding value(s) in *f* for *d_max* in *d*. In the end, f should have only the following values: 0, 25, 50, 75, and 100.\n",
    "\n",
    "**Note**: you don't have to use Numpy in this question."
   ]
  },
  {
   "cell_type": "code",
   "execution_count": 45,
   "metadata": {},
   "outputs": [],
   "source": [
    "f[np.where((d_min<d) & (d<d_mean))] = 25\n",
    "f[np.where((d_mean<d) & (d<d_max))] = 75\n",
    "f[np.where(d==d_mean)] = 50\n",
    "f[np.where(d==d_min)] = 0\n",
    "f[np.where(d==d_max)] = 100"
   ]
  },
  {
   "cell_type": "markdown",
   "metadata": {},
   "source": [
    "#### 17. Print *d* and *f*. Do you have your expected *f*?\n",
    "For instance, if your *d* is:\n",
    "```python\n",
    "[[[1.85836099, 1.67064465, 1.62576044, 1.40243961, 1.88454931],\n",
    "[1.75354326, 1.69403643, 1.36729252, 1.61415071, 1.12104981],\n",
    "[1.72201435, 1.1862918 , 1.87078449, 1.7726778 , 1.88180042]],\n",
    "[[1.44747908, 1.31673383, 1.02000951, 1.52218947, 1.97066381],\n",
    "[1.79129243, 1.74983003, 1.96028037, 1.85166831, 1.65450881],\n",
    "[1.18068344, 1.9587381 , 1.00656599, 1.93402165, 1.73514584]]]\n",
    "```\n",
    "Your *f* should be:\n",
    "```python\n",
    "[[[ 75.,  75.,  75.,  25.,  75.],\n",
    "[ 75.,  75.,  25.,  25.,  25.],\n",
    "[ 75.,  25.,  75.,  75.,  75.]],\n",
    "[[ 25.,  25.,  25.,  25., 100.],\n",
    "[ 75.,  75.,  75.,  75.,  75.],\n",
    "[ 25.,  75.,   0.,  75.,  75.]]]\n",
    "```"
   ]
  },
  {
   "cell_type": "code",
   "execution_count": 48,
   "metadata": {},
   "outputs": [
    {
     "name": "stdout",
     "output_type": "stream",
     "text": [
      "[[[1.56997665 1.93413675 1.57615435 1.18518019 1.98207871]\n",
      "  [1.99850326 1.44646811 1.76243056 1.63656342 1.18524397]\n",
      "  [1.57920196 1.65424193 1.59374037 1.54147664 1.59187907]]\n",
      "\n",
      " [[1.70899117 1.77097797 1.0890502  1.91349549 1.44962501]\n",
      "  [1.69662112 1.38763905 1.05105715 1.66364126 1.36566056]\n",
      "  [1.55277996 1.26658984 1.20387608 1.29620495 1.84186763]]]\n",
      "_________________________________\n",
      "[[[ 75.  75.  75.  25.  75.]\n",
      "  [100.  25.  75.  75.  25.]\n",
      "  [ 75.  75.  75.  25.  75.]]\n",
      "\n",
      " [[ 75.  75.  25.  75.  25.]\n",
      "  [ 75.  25.   0.  75.  25.]\n",
      "  [ 75.  25.  25.  25.  75.]]]\n"
     ]
    }
   ],
   "source": [
    "print(d)\n",
    "print('_________________________________')\n",
    "print(f)"
   ]
  },
  {
   "cell_type": "markdown",
   "metadata": {},
   "source": [
    "#### 18. Bonus question: instead of using numbers (i.e. 0, 25, 50, 75, and 100), use string values  (\"A\", \"B\", \"C\", \"D\", and \"E\") to label the array elements. For the example above, the expected result is:\n",
    "\n",
    "```python\n",
    "[[[ 'D',  'D',  'D',  'B',  'D'],\n",
    "[ 'D',  'D',  'B',  'B',  'B'],\n",
    "[ 'D',  'B',  'D',  'D',  'D']],\n",
    "[[ 'B',  'B',  'B',  'B',  'E'],\n",
    "[ 'D',  'D',  'D',  'D',  'D'],\n",
    "[ 'B',  'D',   'A',  'D', 'D']]]\n",
    "```\n",
    "**Note**: you don't have to use Numpy in this question."
   ]
  },
  {
   "cell_type": "code",
   "execution_count": null,
   "metadata": {},
   "outputs": [],
   "source": [
    "# your code here"
   ]
  }
 ],
 "metadata": {
  "kernelspec": {
   "display_name": "Python 3 (ipykernel)",
   "language": "python",
   "name": "python3"
  },
  "language_info": {
   "codemirror_mode": {
    "name": "ipython",
    "version": 3
   },
   "file_extension": ".py",
   "mimetype": "text/x-python",
   "name": "python",
   "nbconvert_exporter": "python",
   "pygments_lexer": "ipython3",
   "version": "3.9.13"
  }
 },
 "nbformat": 4,
 "nbformat_minor": 2
}
