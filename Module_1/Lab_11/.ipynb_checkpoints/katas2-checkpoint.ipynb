{
 "cells": [
  {
   "cell_type": "raw",
   "id": "0f7ce5f2",
   "metadata": {},
   "source": [
    "1. Remove All The Marked Elements of a List"
   ]
  },
  {
   "cell_type": "code",
   "execution_count": 3,
   "id": "9a9ee6f5",
   "metadata": {},
   "outputs": [
    {
     "data": {
      "text/plain": [
       "[2, 2, 4]"
      ]
     },
     "execution_count": 3,
     "metadata": {},
     "output_type": "execute_result"
    }
   ],
   "source": [
    "integer_list =  [1, 1, 2 ,3 ,1 ,2 ,3 ,4]\n",
    "values_list = [1, 3]\n",
    "\n",
    "class List:\n",
    "    def remove_(self, integer_list, values_list):\n",
    "        remain_list = []\n",
    "        #your code here\n",
    "        for i in integer_list :\n",
    "            if i not in values_list:\n",
    "                remain_list.append(i)\n",
    "        return remain_list\n",
    "    \n",
    "l = List()\n",
    "l.remove_(integer_list, values_list)"
   ]
  },
  {
   "cell_type": "raw",
   "id": "7f63d426",
   "metadata": {},
   "source": [
    "2. Method For Counting Total Occurence Of Specific Digits"
   ]
  },
  {
   "cell_type": "code",
   "execution_count": null,
   "id": "571de0ca",
   "metadata": {},
   "outputs": [],
   "source": [
    "#already done in the last kata of lab 2"
   ]
  },
  {
   "cell_type": "raw",
   "id": "73ec0753",
   "metadata": {},
   "source": [
    "3. Ordered Count of Characters"
   ]
  },
  {
   "cell_type": "code",
   "execution_count": 18,
   "id": "2bbbb4d7",
   "metadata": {},
   "outputs": [
    {
     "data": {
      "text/plain": [
       "[('a', 5), ('b', 2), ('r', 2), ('c', 1), ('d', 1)]"
      ]
     },
     "execution_count": 18,
     "metadata": {},
     "output_type": "execute_result"
    }
   ],
   "source": [
    "word = \"abracadabra\"\n",
    "\n",
    "def ordered_count(inp):\n",
    "    result=[]\n",
    "    for i in inp:\n",
    "        if (i,inp.count(i)) not in result:\n",
    "            result.append((i,inp.count(i)))\n",
    "    return result\n",
    "\n",
    "ordered_count(word)"
   ]
  }
 ],
 "metadata": {
  "kernelspec": {
   "display_name": "Python 3 (ipykernel)",
   "language": "python",
   "name": "python3"
  },
  "language_info": {
   "codemirror_mode": {
    "name": "ipython",
    "version": 3
   },
   "file_extension": ".py",
   "mimetype": "text/x-python",
   "name": "python",
   "nbconvert_exporter": "python",
   "pygments_lexer": "ipython3",
   "version": "3.9.13"
  }
 },
 "nbformat": 4,
 "nbformat_minor": 5
}
