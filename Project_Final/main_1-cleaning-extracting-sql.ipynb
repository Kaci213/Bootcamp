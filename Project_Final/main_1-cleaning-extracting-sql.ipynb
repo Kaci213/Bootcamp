{
 "cells": [
  {
   "cell_type": "code",
   "execution_count": 3,
   "id": "f269a9bc",
   "metadata": {},
   "outputs": [
    {
     "name": "stdout",
     "output_type": "stream",
     "text": [
      "Collecting cdsapi\n",
      "  Downloading cdsapi-0.5.1.tar.gz (12 kB)\n",
      "  Preparing metadata (setup.py): started\n",
      "  Preparing metadata (setup.py): finished with status 'done'\n",
      "Requirement already satisfied: requests>=2.5.0 in c:\\users\\kaci\\anaconda3\\lib\\site-packages (from cdsapi) (2.28.1)\n",
      "Requirement already satisfied: tqdm in c:\\users\\kaci\\anaconda3\\lib\\site-packages (from cdsapi) (4.64.1)\n",
      "Requirement already satisfied: certifi>=2017.4.17 in c:\\users\\kaci\\anaconda3\\lib\\site-packages (from requests>=2.5.0->cdsapi) (2022.9.14)\n",
      "Requirement already satisfied: idna<4,>=2.5 in c:\\users\\kaci\\anaconda3\\lib\\site-packages (from requests>=2.5.0->cdsapi) (3.3)\n",
      "Requirement already satisfied: urllib3<1.27,>=1.21.1 in c:\\users\\kaci\\anaconda3\\lib\\site-packages (from requests>=2.5.0->cdsapi) (1.26.11)\n",
      "Requirement already satisfied: charset-normalizer<3,>=2 in c:\\users\\kaci\\anaconda3\\lib\\site-packages (from requests>=2.5.0->cdsapi) (2.0.4)\n",
      "Requirement already satisfied: colorama in c:\\users\\kaci\\anaconda3\\lib\\site-packages (from tqdm->cdsapi) (0.4.5)\n",
      "Building wheels for collected packages: cdsapi\n",
      "  Building wheel for cdsapi (setup.py): started\n",
      "  Building wheel for cdsapi (setup.py): finished with status 'done'\n",
      "  Created wheel for cdsapi: filename=cdsapi-0.5.1-py2.py3-none-any.whl size=11688 sha256=4d424cc84ae8bca80f11f8f841c4ca51ccedd92edef745093b8567b26191c443\n",
      "  Stored in directory: c:\\users\\kaci\\appdata\\local\\pip\\cache\\wheels\\8b\\19\\90\\0f30bd354f0c245f87c1d7639466d05c6b028d3acb4a64cbed\n",
      "Successfully built cdsapi\n",
      "Installing collected packages: cdsapi\n",
      "Successfully installed cdsapi-0.5.1\n",
      "Note: you may need to restart the kernel to use updated packages.\n"
     ]
    }
   ],
   "source": [
    "pip install cdsapi"
   ]
  },
  {
   "cell_type": "code",
   "execution_count": 7,
   "id": "fd3c773e",
   "metadata": {},
   "outputs": [
    {
     "name": "stdout",
     "output_type": "stream",
     "text": [
      "Collecting netCDF4\n",
      "  Downloading netCDF4-1.6.3-cp39-cp39-win_amd64.whl (6.6 MB)\n",
      "     ---------------------------------------- 6.6/6.6 MB 22.2 MB/s eta 0:00:00\n",
      "Collecting cftime\n",
      "  Downloading cftime-1.6.2-cp39-cp39-win_amd64.whl (171 kB)\n",
      "     ---------------------------------------- 171.0/171.0 kB ? eta 0:00:00\n",
      "Requirement already satisfied: numpy in c:\\users\\kaci\\anaconda3\\lib\\site-packages (from netCDF4) (1.21.5)\n",
      "Installing collected packages: cftime, netCDF4\n",
      "Successfully installed cftime-1.6.2 netCDF4-1.6.3\n",
      "Note: you may need to restart the kernel to use updated packages.\n"
     ]
    }
   ],
   "source": [
    "pip install netCDF4"
   ]
  },
  {
   "cell_type": "code",
   "execution_count": 1,
   "id": "25cf8a35",
   "metadata": {},
   "outputs": [],
   "source": [
    "import pandas as pd\n",
    "import numpy as np\n",
    "import matplotlib.pyplot as plt\n",
    "import seaborn as sns"
   ]
  },
  {
   "cell_type": "code",
   "execution_count": 60,
   "id": "e2ef5d97",
   "metadata": {},
   "outputs": [],
   "source": [
    "import warnings\n",
    "warnings.filterwarnings('ignore')"
   ]
  },
  {
   "cell_type": "code",
   "execution_count": 3,
   "id": "9398b306",
   "metadata": {},
   "outputs": [],
   "source": [
    "import netCDF4"
   ]
  },
  {
   "cell_type": "code",
   "execution_count": 12,
   "id": "11f9b65f",
   "metadata": {},
   "outputs": [
    {
     "data": {
      "text/plain": [
       "dict_keys(['latitude', 'longitude', 'time', 'BIO01'])"
      ]
     },
     "execution_count": 12,
     "metadata": {},
     "output_type": "execute_result"
    }
   ],
   "source": [
    "data = netCDF4.Dataset('dataset-sis-biodiversity/BIO01_ipsl-cm5a-lr_rcp45_r1i1p1_1950-2100_v1.0.nc')\n",
    "h = data.variables.keys()\n",
    "h"
   ]
  },
  {
   "cell_type": "code",
   "execution_count": 14,
   "id": "f239c156",
   "metadata": {},
   "outputs": [
    {
     "name": "stdout",
     "output_type": "stream",
     "text": [
      "<class 'netCDF4._netCDF4.Dataset'>\n",
      "root group (NETCDF4 data model, file format HDF5):\n",
      "    history: Thu Jan 28 11:34:54 2021: ncpdq -a time,latitude,longitude /tmp/tmp5dywms75.nc_temp /tmp/tmp5dywms75.nc\n",
      "    Conventions: CF-1.7\n",
      "    Institution: (C) VITO, Belgium\n",
      "    References: See documentation for full references at https://climate.copernicus.eu/\n",
      "    Contact: Please contact Copernicus User Support on the Copernicus Climate Change Service website (https://climate.copernicus.eu/)\n",
      "    Version: v1\n",
      "    Title: C3S D427 SIS Biodiversity / Bio-climate indicators / BIO01 / CMIP5 / rcp45 IPSL-CM5A-LR r1i1p1 / bias-adjusted with ERA5 / 0.5degree_global\n",
      "    Source: CMIP5 dataset (rcp45 IPSL-CM5A-LR r1i1p1) bias-adjusted to ERA5 by VITO\n",
      "    Licence: ECMWF Copernicus licence 1.0\n",
      "    dimensions(sizes): latitude(348), longitude(720), time(151)\n",
      "    variables(dimensions): float64 latitude(latitude), float64 longitude(longitude), int64 time(time), float32 BIO01(time, latitude, longitude)\n",
      "    groups: \n"
     ]
    }
   ],
   "source": [
    "print(data)"
   ]
  },
  {
   "cell_type": "code",
   "execution_count": 18,
   "id": "3519f979",
   "metadata": {},
   "outputs": [
    {
     "data": {
      "text/plain": [
       "(151, 348, 720)"
      ]
     },
     "execution_count": 18,
     "metadata": {},
     "output_type": "execute_result"
    }
   ],
   "source": [
    "data.variables['BIO01'].shape"
   ]
  },
  {
   "cell_type": "code",
   "execution_count": 26,
   "id": "9c234654",
   "metadata": {},
   "outputs": [
    {
     "data": {
      "text/plain": [
       "'days since 1950-01-01'"
      ]
     },
     "execution_count": 26,
     "metadata": {},
     "output_type": "execute_result"
    }
   ],
   "source": [
    "data.variables['time'].units"
   ]
  },
  {
   "cell_type": "code",
   "execution_count": 28,
   "id": "452b2eb1",
   "metadata": {},
   "outputs": [
    {
     "data": {
      "text/plain": [
       "(151,)"
      ]
     },
     "execution_count": 28,
     "metadata": {},
     "output_type": "execute_result"
    }
   ],
   "source": [
    "data.variables['time'].shape"
   ]
  },
  {
   "cell_type": "code",
   "execution_count": 30,
   "id": "ba720b5d",
   "metadata": {},
   "outputs": [
    {
     "data": {
      "text/plain": [
       "54787"
      ]
     },
     "execution_count": 30,
     "metadata": {},
     "output_type": "execute_result"
    }
   ],
   "source": [
    "TIME[150]"
   ]
  },
  {
   "cell_type": "code",
   "execution_count": 38,
   "id": "226fa67d",
   "metadata": {},
   "outputs": [
    {
     "name": "stdout",
     "output_type": "stream",
     "text": [
      "<class 'netCDF4._netCDF4.Variable'>\n",
      "int64 time(time)\n",
      "    units: days since 1950-01-01\n",
      "    calendar: proleptic_gregorian\n",
      "    standard_name: time\n",
      "    long_name: time\n",
      "unlimited dimensions: \n",
      "current shape = (151,)\n",
      "filling on, default _FillValue of -9223372036854775806 used\n"
     ]
    }
   ],
   "source": [
    "#accessing the variables\n",
    "TIME = data.variables[\"time\"]\n",
    "LAT=data.variables[\"latitude\"]\n",
    "LON=data.variables[\"longitude\"]\n",
    "INDICATOR=data.variables[\"BIO01\"]\n",
    "\n",
    "#accessing the data inside those variables\n",
    "print(TIME)"
   ]
  },
  {
   "cell_type": "code",
   "execution_count": 51,
   "id": "a5caa89a",
   "metadata": {},
   "outputs": [],
   "source": [
    "import numpy as np"
   ]
  },
  {
   "cell_type": "code",
   "execution_count": 55,
   "id": "03e3d108",
   "metadata": {
    "scrolled": true
   },
   "outputs": [
    {
     "data": {
      "text/plain": [
       "masked_array(data=[0.5, 0.5, 0.5, 0.5, 0.5, 0.5, 0.5, 0.5, 0.5, 0.5, 0.5,\n",
       "                   0.5, 0.5, 0.5, 0.5, 0.5, 0.5, 0.5, 0.5, 0.5, 0.5, 0.5,\n",
       "                   0.5, 0.5, 0.5, 0.5, 0.5, 0.5, 0.5, 0.5, 0.5, 0.5, 0.5,\n",
       "                   0.5, 0.5, 0.5, 0.5, 0.5, 0.5, 0.5, 0.5, 0.5, 0.5, 0.5,\n",
       "                   0.5, 0.5, 0.5, 0.5, 0.5, 0.5, 0.5, 0.5, 0.5, 0.5, 0.5,\n",
       "                   0.5, 0.5, 0.5, 0.5, 0.5, 0.5, 0.5, 0.5, 0.5, 0.5, 0.5,\n",
       "                   0.5, 0.5, 0.5, 0.5, 0.5, 0.5, 0.5, 0.5, 0.5, 0.5, 0.5,\n",
       "                   0.5, 0.5, 0.5, 0.5, 0.5, 0.5, 0.5, 0.5, 0.5, 0.5, 0.5,\n",
       "                   0.5, 0.5, 0.5, 0.5, 0.5, 0.5, 0.5, 0.5, 0.5, 0.5, 0.5,\n",
       "                   0.5, 0.5, 0.5, 0.5, 0.5, 0.5, 0.5, 0.5, 0.5, 0.5, 0.5,\n",
       "                   0.5, 0.5, 0.5, 0.5, 0.5, 0.5, 0.5, 0.5, 0.5, 0.5, 0.5,\n",
       "                   0.5, 0.5, 0.5, 0.5, 0.5, 0.5, 0.5, 0.5, 0.5, 0.5, 0.5,\n",
       "                   0.5, 0.5, 0.5, 0.5, 0.5, 0.5, 0.5, 0.5, 0.5, 0.5, 0.5,\n",
       "                   0.5, 0.5, 0.5, 0.5, 0.5, 0.5, 0.5, 0.5, 0.5, 0.5, 0.5,\n",
       "                   0.5, 0.5, 0.5, 0.5, 0.5, 0.5, 0.5, 0.5, 0.5, 0.5, 0.5,\n",
       "                   0.5, 0.5, 0.5, 0.5, 0.5, 0.5, 0.5, 0.5, 0.5, 0.5, 0.5,\n",
       "                   0.5, 0.5, 0.5, 0.5, 0.5, 0.5, 0.5, 0.5, 0.5, 0.5, 0.5,\n",
       "                   0.5, 0.5, 0.5, 0.5, 0.5, 0.5, 0.5, 0.5, 0.5, 0.5, 0.5,\n",
       "                   0.5, 0.5, 0.5, 0.5, 0.5, 0.5, 0.5, 0.5, 0.5, 0.5, 0.5,\n",
       "                   0.5, 0.5, 0.5, 0.5, 0.5, 0.5, 0.5, 0.5, 0.5, 0.5, 0.5,\n",
       "                   0.5, 0.5, 0.5, 0.5, 0.5, 0.5, 0.5, 0.5, 0.5, 0.5, 0.5,\n",
       "                   0.5, 0.5, 0.5, 0.5, 0.5, 0.5, 0.5, 0.5, 0.5, 0.5, 0.5,\n",
       "                   0.5, 0.5, 0.5, 0.5, 0.5, 0.5, 0.5, 0.5, 0.5, 0.5, 0.5,\n",
       "                   0.5, 0.5, 0.5, 0.5, 0.5, 0.5, 0.5, 0.5, 0.5, 0.5, 0.5,\n",
       "                   0.5, 0.5, 0.5, 0.5, 0.5, 0.5, 0.5, 0.5, 0.5, 0.5, 0.5,\n",
       "                   0.5, 0.5, 0.5, 0.5, 0.5, 0.5, 0.5, 0.5, 0.5, 0.5, 0.5,\n",
       "                   0.5, 0.5, 0.5, 0.5, 0.5, 0.5, 0.5, 0.5, 0.5, 0.5, 0.5,\n",
       "                   0.5, 0.5, 0.5, 0.5, 0.5, 0.5, 0.5, 0.5, 0.5, 0.5, 0.5,\n",
       "                   0.5, 0.5, 0.5, 0.5, 0.5, 0.5, 0.5, 0.5, 0.5, 0.5, 0.5,\n",
       "                   0.5, 0.5, 0.5, 0.5, 0.5, 0.5, 0.5, 0.5, 0.5, 0.5, 0.5,\n",
       "                   0.5, 0.5, 0.5, 0.5, 0.5, 0.5, 0.5, 0.5, 0.5, 0.5, 0.5,\n",
       "                   0.5, 0.5, 0.5, 0.5, 0.5, 0.5],\n",
       "             mask=False,\n",
       "       fill_value=1e+20)"
      ]
     },
     "execution_count": 55,
     "metadata": {},
     "output_type": "execute_result"
    }
   ],
   "source": [
    "#check if there is a distortion in the projection of latitudes & longitudes (there isn't)\n",
    "np.diff(data.variables[\"latitude\"][:])"
   ]
  },
  {
   "cell_type": "code",
   "execution_count": 53,
   "id": "501be31c",
   "metadata": {
    "scrolled": true
   },
   "outputs": [
    {
     "data": {
      "text/plain": [
       "masked_array(data=[0.5, 0.5, 0.5, 0.5, 0.5, 0.5, 0.5, 0.5, 0.5, 0.5, 0.5,\n",
       "                   0.5, 0.5, 0.5, 0.5, 0.5, 0.5, 0.5, 0.5, 0.5, 0.5, 0.5,\n",
       "                   0.5, 0.5, 0.5, 0.5, 0.5, 0.5, 0.5, 0.5, 0.5, 0.5, 0.5,\n",
       "                   0.5, 0.5, 0.5, 0.5, 0.5, 0.5, 0.5, 0.5, 0.5, 0.5, 0.5,\n",
       "                   0.5, 0.5, 0.5, 0.5, 0.5, 0.5, 0.5, 0.5, 0.5, 0.5, 0.5,\n",
       "                   0.5, 0.5, 0.5, 0.5, 0.5, 0.5, 0.5, 0.5, 0.5, 0.5, 0.5,\n",
       "                   0.5, 0.5, 0.5, 0.5, 0.5, 0.5, 0.5, 0.5, 0.5, 0.5, 0.5,\n",
       "                   0.5, 0.5, 0.5, 0.5, 0.5, 0.5, 0.5, 0.5, 0.5, 0.5, 0.5,\n",
       "                   0.5, 0.5, 0.5, 0.5, 0.5, 0.5, 0.5, 0.5, 0.5, 0.5, 0.5,\n",
       "                   0.5, 0.5, 0.5, 0.5, 0.5, 0.5, 0.5, 0.5, 0.5, 0.5, 0.5,\n",
       "                   0.5, 0.5, 0.5, 0.5, 0.5, 0.5, 0.5, 0.5, 0.5, 0.5, 0.5,\n",
       "                   0.5, 0.5, 0.5, 0.5, 0.5, 0.5, 0.5, 0.5, 0.5, 0.5, 0.5,\n",
       "                   0.5, 0.5, 0.5, 0.5, 0.5, 0.5, 0.5, 0.5, 0.5, 0.5, 0.5,\n",
       "                   0.5, 0.5, 0.5, 0.5, 0.5, 0.5, 0.5, 0.5, 0.5, 0.5, 0.5,\n",
       "                   0.5, 0.5, 0.5, 0.5, 0.5, 0.5, 0.5, 0.5, 0.5, 0.5, 0.5,\n",
       "                   0.5, 0.5, 0.5, 0.5, 0.5, 0.5, 0.5, 0.5, 0.5, 0.5, 0.5,\n",
       "                   0.5, 0.5, 0.5, 0.5, 0.5, 0.5, 0.5, 0.5, 0.5, 0.5, 0.5,\n",
       "                   0.5, 0.5, 0.5, 0.5, 0.5, 0.5, 0.5, 0.5, 0.5, 0.5, 0.5,\n",
       "                   0.5, 0.5, 0.5, 0.5, 0.5, 0.5, 0.5, 0.5, 0.5, 0.5, 0.5,\n",
       "                   0.5, 0.5, 0.5, 0.5, 0.5, 0.5, 0.5, 0.5, 0.5, 0.5, 0.5,\n",
       "                   0.5, 0.5, 0.5, 0.5, 0.5, 0.5, 0.5, 0.5, 0.5, 0.5, 0.5,\n",
       "                   0.5, 0.5, 0.5, 0.5, 0.5, 0.5, 0.5, 0.5, 0.5, 0.5, 0.5,\n",
       "                   0.5, 0.5, 0.5, 0.5, 0.5, 0.5, 0.5, 0.5, 0.5, 0.5, 0.5,\n",
       "                   0.5, 0.5, 0.5, 0.5, 0.5, 0.5, 0.5, 0.5, 0.5, 0.5, 0.5,\n",
       "                   0.5, 0.5, 0.5, 0.5, 0.5, 0.5, 0.5, 0.5, 0.5, 0.5, 0.5,\n",
       "                   0.5, 0.5, 0.5, 0.5, 0.5, 0.5, 0.5, 0.5, 0.5, 0.5, 0.5,\n",
       "                   0.5, 0.5, 0.5, 0.5, 0.5, 0.5, 0.5, 0.5, 0.5, 0.5, 0.5,\n",
       "                   0.5, 0.5, 0.5, 0.5, 0.5, 0.5, 0.5, 0.5, 0.5, 0.5, 0.5,\n",
       "                   0.5, 0.5, 0.5, 0.5, 0.5, 0.5, 0.5, 0.5, 0.5, 0.5, 0.5,\n",
       "                   0.5, 0.5, 0.5, 0.5, 0.5, 0.5, 0.5, 0.5, 0.5, 0.5, 0.5,\n",
       "                   0.5, 0.5, 0.5, 0.5, 0.5, 0.5, 0.5, 0.5, 0.5, 0.5, 0.5,\n",
       "                   0.5, 0.5, 0.5, 0.5, 0.5, 0.5, 0.5, 0.5, 0.5, 0.5, 0.5,\n",
       "                   0.5, 0.5, 0.5, 0.5, 0.5, 0.5, 0.5, 0.5, 0.5, 0.5, 0.5,\n",
       "                   0.5, 0.5, 0.5, 0.5, 0.5, 0.5, 0.5, 0.5, 0.5, 0.5, 0.5,\n",
       "                   0.5, 0.5, 0.5, 0.5, 0.5, 0.5, 0.5, 0.5, 0.5, 0.5, 0.5,\n",
       "                   0.5, 0.5, 0.5, 0.5, 0.5, 0.5, 0.5, 0.5, 0.5, 0.5, 0.5,\n",
       "                   0.5, 0.5, 0.5, 0.5, 0.5, 0.5, 0.5, 0.5, 0.5, 0.5, 0.5,\n",
       "                   0.5, 0.5, 0.5, 0.5, 0.5, 0.5, 0.5, 0.5, 0.5, 0.5, 0.5,\n",
       "                   0.5, 0.5, 0.5, 0.5, 0.5, 0.5, 0.5, 0.5, 0.5, 0.5, 0.5,\n",
       "                   0.5, 0.5, 0.5, 0.5, 0.5, 0.5, 0.5, 0.5, 0.5, 0.5, 0.5,\n",
       "                   0.5, 0.5, 0.5, 0.5, 0.5, 0.5, 0.5, 0.5, 0.5, 0.5, 0.5,\n",
       "                   0.5, 0.5, 0.5, 0.5, 0.5, 0.5, 0.5, 0.5, 0.5, 0.5, 0.5,\n",
       "                   0.5, 0.5, 0.5, 0.5, 0.5, 0.5, 0.5, 0.5, 0.5, 0.5, 0.5,\n",
       "                   0.5, 0.5, 0.5, 0.5, 0.5, 0.5, 0.5, 0.5, 0.5, 0.5, 0.5,\n",
       "                   0.5, 0.5, 0.5, 0.5, 0.5, 0.5, 0.5, 0.5, 0.5, 0.5, 0.5,\n",
       "                   0.5, 0.5, 0.5, 0.5, 0.5, 0.5, 0.5, 0.5, 0.5, 0.5, 0.5,\n",
       "                   0.5, 0.5, 0.5, 0.5, 0.5, 0.5, 0.5, 0.5, 0.5, 0.5, 0.5,\n",
       "                   0.5, 0.5, 0.5, 0.5, 0.5, 0.5, 0.5, 0.5, 0.5, 0.5, 0.5,\n",
       "                   0.5, 0.5, 0.5, 0.5, 0.5, 0.5, 0.5, 0.5, 0.5, 0.5, 0.5,\n",
       "                   0.5, 0.5, 0.5, 0.5, 0.5, 0.5, 0.5, 0.5, 0.5, 0.5, 0.5,\n",
       "                   0.5, 0.5, 0.5, 0.5, 0.5, 0.5, 0.5, 0.5, 0.5, 0.5, 0.5,\n",
       "                   0.5, 0.5, 0.5, 0.5, 0.5, 0.5, 0.5, 0.5, 0.5, 0.5, 0.5,\n",
       "                   0.5, 0.5, 0.5, 0.5, 0.5, 0.5, 0.5, 0.5, 0.5, 0.5, 0.5,\n",
       "                   0.5, 0.5, 0.5, 0.5, 0.5, 0.5, 0.5, 0.5, 0.5, 0.5, 0.5,\n",
       "                   0.5, 0.5, 0.5, 0.5, 0.5, 0.5, 0.5, 0.5, 0.5, 0.5, 0.5,\n",
       "                   0.5, 0.5, 0.5, 0.5, 0.5, 0.5, 0.5, 0.5, 0.5, 0.5, 0.5,\n",
       "                   0.5, 0.5, 0.5, 0.5, 0.5, 0.5, 0.5, 0.5, 0.5, 0.5, 0.5,\n",
       "                   0.5, 0.5, 0.5, 0.5, 0.5, 0.5, 0.5, 0.5, 0.5, 0.5, 0.5,\n",
       "                   0.5, 0.5, 0.5, 0.5, 0.5, 0.5, 0.5, 0.5, 0.5, 0.5, 0.5,\n",
       "                   0.5, 0.5, 0.5, 0.5, 0.5, 0.5, 0.5, 0.5, 0.5, 0.5, 0.5,\n",
       "                   0.5, 0.5, 0.5, 0.5, 0.5, 0.5, 0.5, 0.5, 0.5, 0.5, 0.5,\n",
       "                   0.5, 0.5, 0.5, 0.5, 0.5, 0.5, 0.5, 0.5, 0.5, 0.5, 0.5,\n",
       "                   0.5, 0.5, 0.5, 0.5, 0.5, 0.5, 0.5, 0.5, 0.5, 0.5, 0.5,\n",
       "                   0.5, 0.5, 0.5, 0.5, 0.5, 0.5, 0.5, 0.5, 0.5, 0.5, 0.5,\n",
       "                   0.5, 0.5, 0.5, 0.5, 0.5, 0.5, 0.5, 0.5, 0.5, 0.5, 0.5,\n",
       "                   0.5, 0.5, 0.5, 0.5],\n",
       "             mask=False,\n",
       "       fill_value=1e+20)"
      ]
     },
     "execution_count": 53,
     "metadata": {},
     "output_type": "execute_result"
    }
   ],
   "source": [
    "np.diff(data.variables[\"longitude\"][:])"
   ]
  },
  {
   "cell_type": "code",
   "execution_count": 48,
   "id": "79f8d322",
   "metadata": {},
   "outputs": [
    {
     "data": {
      "text/plain": [
       "54787"
      ]
     },
     "execution_count": 48,
     "metadata": {},
     "output_type": "execute_result"
    }
   ],
   "source": [
    "data.variables[\"time\"][:].max()"
   ]
  },
  {
   "cell_type": "code",
   "execution_count": 37,
   "id": "d41f7458",
   "metadata": {},
   "outputs": [
    {
     "data": {
      "text/plain": [
       "'days since 1950-01-01'"
      ]
     },
     "execution_count": 37,
     "metadata": {},
     "output_type": "execute_result"
    }
   ],
   "source": [
    "TIME.units"
   ]
  },
  {
   "cell_type": "code",
   "execution_count": 39,
   "id": "a873159c",
   "metadata": {},
   "outputs": [
    {
     "data": {
      "text/plain": [
       "'1950-01-01'"
      ]
     },
     "execution_count": 39,
     "metadata": {},
     "output_type": "execute_result"
    }
   ],
   "source": [
    "TIME.units[11:22]"
   ]
  },
  {
   "cell_type": "code",
   "execution_count": 6,
   "id": "7bcb7999",
   "metadata": {},
   "outputs": [
    {
     "name": "stdout",
     "output_type": "stream",
     "text": [
      "<class 'netCDF4._netCDF4.Variable'>\n",
      "int64 time(time)\n",
      "    units: days since 1950-01-01\n",
      "    calendar: proleptic_gregorian\n",
      "    standard_name: time\n",
      "    long_name: time\n",
      "unlimited dimensions: \n",
      "current shape = (151,)\n",
      "filling on, default _FillValue of -9223372036854775806 used\n"
     ]
    }
   ],
   "source": [
    "print(X_dim)"
   ]
  },
  {
   "cell_type": "markdown",
   "id": "7dcebda7",
   "metadata": {},
   "source": [
    "## Data extraction test : first try with biodiversity info for 1 city"
   ]
  },
  {
   "cell_type": "code",
   "execution_count": null,
   "id": "ee9b3958",
   "metadata": {},
   "outputs": [],
   "source": [
    "#Data extraction test : first try with biodiversity info for 1 city\n",
    "\n",
    "from netCDF4 import Dataset \n",
    "import pandas as pd\n",
    "import netCDF4\n",
    "import numpy as np\n",
    "\n",
    "data = netCDF4.Dataset('dataset-sis-biodiversity/BIO01_ipsl-cm5a-lr_rcp45_r1i1p1_1950-2100_v1.0.nc')\n",
    "TIME = data.variables[\"time\"]\n",
    "LAT=data.variables[\"latitude\"][:]\n",
    "LON=data.variables[\"longitude\"][:]\n",
    "INDICATOR=data.variables[\"BIO01\"]\n",
    "\n",
    "#Storing the lat & lon of the city of Ain El Hammam\n",
    "lat_AEH = 36.57294751950093\n",
    "lon_AEH = 4.312277176009296\n",
    "\n",
    "#Taking the squared difference of lat & lon\n",
    "sq_diff_lat = (LAT - lat_AEH)**2\n",
    "sq_diff_lon = (LON - lon_AEH)**2\n",
    "\n",
    "#Taking the closest lat & lon (by retrieving the index for min lat & lon)\n",
    "min_index_lat = sq_diff_lat.argmin()\n",
    "min_index_lon = sq_diff_lon.argmin()\n",
    "\n",
    "#Creating the dataframe\n",
    "starting_date = '1950'\n",
    "ending_date = '2100'\n",
    "date_range = pd.date_range(start=starting_date, end=ending_date, freq='AS')\n",
    "\n",
    "df = pd.DataFrame(0, columns=['Biodiversity'], index=date_range)\n",
    "dt = np.arange(0, data.variables[\"time\"].size)\n",
    "\n",
    "for time_index in dt:\n",
    "    df.iloc[time_index] = INDICATOR[time_index, min_index_lat, min_index_lon]\n",
    "    \n",
    "df.to_csv('first_try.csv')"
   ]
  },
  {
   "attachments": {},
   "cell_type": "markdown",
   "id": "dfacd4ca",
   "metadata": {},
   "source": [
    "# Full data extraction"
   ]
  },
  {
   "cell_type": "markdown",
   "id": "46b3a255",
   "metadata": {},
   "source": [
    "# a. Cleaning the city list file"
   ]
  },
  {
   "cell_type": "code",
   "execution_count": 83,
   "id": "10b005fe",
   "metadata": {},
   "outputs": [],
   "source": [
    "df_city=pd.read_csv('geonames-all-cities-with-a-population-1000.csv', sep=';')\n"
   ]
  },
  {
   "cell_type": "code",
   "execution_count": 58,
   "id": "4b78e67d",
   "metadata": {},
   "outputs": [
    {
     "data": {
      "text/html": [
       "<div>\n",
       "<style scoped>\n",
       "    .dataframe tbody tr th:only-of-type {\n",
       "        vertical-align: middle;\n",
       "    }\n",
       "\n",
       "    .dataframe tbody tr th {\n",
       "        vertical-align: top;\n",
       "    }\n",
       "\n",
       "    .dataframe thead th {\n",
       "        text-align: right;\n",
       "    }\n",
       "</style>\n",
       "<table border=\"1\" class=\"dataframe\">\n",
       "  <thead>\n",
       "    <tr style=\"text-align: right;\">\n",
       "      <th></th>\n",
       "      <th>Geoname ID</th>\n",
       "      <th>Name</th>\n",
       "      <th>ASCII Name</th>\n",
       "      <th>Alternate Names</th>\n",
       "      <th>Feature Class</th>\n",
       "      <th>Feature Code</th>\n",
       "      <th>Country Code</th>\n",
       "      <th>Country name EN</th>\n",
       "      <th>Country Code 2</th>\n",
       "      <th>Admin1 Code</th>\n",
       "      <th>Admin2 Code</th>\n",
       "      <th>Admin3 Code</th>\n",
       "      <th>Admin4 Code</th>\n",
       "      <th>Population</th>\n",
       "      <th>Elevation</th>\n",
       "      <th>DIgital Elevation Model</th>\n",
       "      <th>Timezone</th>\n",
       "      <th>Modification date</th>\n",
       "      <th>LABEL EN</th>\n",
       "      <th>Coordinates</th>\n",
       "    </tr>\n",
       "  </thead>\n",
       "  <tbody>\n",
       "    <tr>\n",
       "      <th>0</th>\n",
       "      <td>4946136</td>\n",
       "      <td>Oakham</td>\n",
       "      <td>Oakham</td>\n",
       "      <td>Oakham,Oakham Centre,Oakkham,awkham,awkham  ma...</td>\n",
       "      <td>P</td>\n",
       "      <td>PPL</td>\n",
       "      <td>US</td>\n",
       "      <td>United States</td>\n",
       "      <td>NaN</td>\n",
       "      <td>MA</td>\n",
       "      <td>027</td>\n",
       "      <td>50670</td>\n",
       "      <td>NaN</td>\n",
       "      <td>1702</td>\n",
       "      <td>328.0</td>\n",
       "      <td>328</td>\n",
       "      <td>America/New_York</td>\n",
       "      <td>2017-05-23</td>\n",
       "      <td>United States</td>\n",
       "      <td>42.35287, -72.04535</td>\n",
       "    </tr>\n",
       "    <tr>\n",
       "      <th>1</th>\n",
       "      <td>4946372</td>\n",
       "      <td>Onset</td>\n",
       "      <td>Onset</td>\n",
       "      <td>NaN</td>\n",
       "      <td>P</td>\n",
       "      <td>PPL</td>\n",
       "      <td>US</td>\n",
       "      <td>United States</td>\n",
       "      <td>NaN</td>\n",
       "      <td>MA</td>\n",
       "      <td>023</td>\n",
       "      <td>72985</td>\n",
       "      <td>NaN</td>\n",
       "      <td>1573</td>\n",
       "      <td>4.0</td>\n",
       "      <td>5</td>\n",
       "      <td>America/New_York</td>\n",
       "      <td>2017-05-23</td>\n",
       "      <td>United States</td>\n",
       "      <td>41.74177, -70.65781</td>\n",
       "    </tr>\n",
       "    <tr>\n",
       "      <th>2</th>\n",
       "      <td>4947641</td>\n",
       "      <td>Plympton</td>\n",
       "      <td>Plympton</td>\n",
       "      <td>Plimpton,plymptwn  masachwst,Плимптон,پلیمپتون...</td>\n",
       "      <td>P</td>\n",
       "      <td>PPL</td>\n",
       "      <td>US</td>\n",
       "      <td>United States</td>\n",
       "      <td>NaN</td>\n",
       "      <td>MA</td>\n",
       "      <td>023</td>\n",
       "      <td>54415</td>\n",
       "      <td>NaN</td>\n",
       "      <td>2683</td>\n",
       "      <td>36.0</td>\n",
       "      <td>36</td>\n",
       "      <td>America/New_York</td>\n",
       "      <td>2017-05-23</td>\n",
       "      <td>United States</td>\n",
       "      <td>41.95288, -70.81448</td>\n",
       "    </tr>\n",
       "    <tr>\n",
       "      <th>3</th>\n",
       "      <td>4948087</td>\n",
       "      <td>Provincetown</td>\n",
       "      <td>Provincetown</td>\n",
       "      <td>Cap Blanc,PVC,Provincetown,Provinstaun,Village...</td>\n",
       "      <td>P</td>\n",
       "      <td>PPL</td>\n",
       "      <td>US</td>\n",
       "      <td>United States</td>\n",
       "      <td>NaN</td>\n",
       "      <td>MA</td>\n",
       "      <td>001</td>\n",
       "      <td>55500</td>\n",
       "      <td>NaN</td>\n",
       "      <td>2642</td>\n",
       "      <td>10.0</td>\n",
       "      <td>12</td>\n",
       "      <td>America/New_York</td>\n",
       "      <td>2018-01-04</td>\n",
       "      <td>United States</td>\n",
       "      <td>42.05295, -70.1864</td>\n",
       "    </tr>\n",
       "    <tr>\n",
       "      <th>4</th>\n",
       "      <td>4950790</td>\n",
       "      <td>Sherborn</td>\n",
       "      <td>Sherborn</td>\n",
       "      <td>Shehrbon,Sherborn,Sherborn Centre,shrbwrn  mas...</td>\n",
       "      <td>P</td>\n",
       "      <td>PPL</td>\n",
       "      <td>US</td>\n",
       "      <td>United States</td>\n",
       "      <td>NaN</td>\n",
       "      <td>MA</td>\n",
       "      <td>017</td>\n",
       "      <td>61380</td>\n",
       "      <td>NaN</td>\n",
       "      <td>4273</td>\n",
       "      <td>63.0</td>\n",
       "      <td>70</td>\n",
       "      <td>America/New_York</td>\n",
       "      <td>2017-05-23</td>\n",
       "      <td>United States</td>\n",
       "      <td>42.23899, -71.36978</td>\n",
       "    </tr>\n",
       "    <tr>\n",
       "      <th>...</th>\n",
       "      <td>...</td>\n",
       "      <td>...</td>\n",
       "      <td>...</td>\n",
       "      <td>...</td>\n",
       "      <td>...</td>\n",
       "      <td>...</td>\n",
       "      <td>...</td>\n",
       "      <td>...</td>\n",
       "      <td>...</td>\n",
       "      <td>...</td>\n",
       "      <td>...</td>\n",
       "      <td>...</td>\n",
       "      <td>...</td>\n",
       "      <td>...</td>\n",
       "      <td>...</td>\n",
       "      <td>...</td>\n",
       "      <td>...</td>\n",
       "      <td>...</td>\n",
       "      <td>...</td>\n",
       "      <td>...</td>\n",
       "    </tr>\n",
       "    <tr>\n",
       "      <th>140862</th>\n",
       "      <td>1688216</td>\n",
       "      <td>Santa Cruz</td>\n",
       "      <td>Santa Cruz</td>\n",
       "      <td>sheng ke lu si qu,聖克魯斯區</td>\n",
       "      <td>P</td>\n",
       "      <td>PPLX</td>\n",
       "      <td>PH</td>\n",
       "      <td>Philippines</td>\n",
       "      <td>NaN</td>\n",
       "      <td>NCR</td>\n",
       "      <td>133900000</td>\n",
       "      <td>133903000</td>\n",
       "      <td>NaN</td>\n",
       "      <td>126735</td>\n",
       "      <td>NaN</td>\n",
       "      <td>15</td>\n",
       "      <td>Asia/Manila</td>\n",
       "      <td>2022-08-09</td>\n",
       "      <td>Philippines</td>\n",
       "      <td>14.6, 120.98333</td>\n",
       "    </tr>\n",
       "    <tr>\n",
       "      <th>140863</th>\n",
       "      <td>1688830</td>\n",
       "      <td>San Pablo</td>\n",
       "      <td>San Pablo</td>\n",
       "      <td>Dakbayan sa San Pablo,Kota San Pablo,Lungsod n...</td>\n",
       "      <td>P</td>\n",
       "      <td>PPL</td>\n",
       "      <td>PH</td>\n",
       "      <td>Philippines</td>\n",
       "      <td>NaN</td>\n",
       "      <td>40</td>\n",
       "      <td>33</td>\n",
       "      <td>043424000</td>\n",
       "      <td>NaN</td>\n",
       "      <td>207577</td>\n",
       "      <td>NaN</td>\n",
       "      <td>115</td>\n",
       "      <td>Asia/Manila</td>\n",
       "      <td>2017-12-13</td>\n",
       "      <td>Philippines</td>\n",
       "      <td>14.0683, 121.3256</td>\n",
       "    </tr>\n",
       "    <tr>\n",
       "      <th>140864</th>\n",
       "      <td>1689220</td>\n",
       "      <td>San Juan de Mata</td>\n",
       "      <td>San Juan de Mata</td>\n",
       "      <td>San Juan de Maja,San Juan de Mata</td>\n",
       "      <td>P</td>\n",
       "      <td>PPL</td>\n",
       "      <td>PH</td>\n",
       "      <td>Philippines</td>\n",
       "      <td>NaN</td>\n",
       "      <td>03</td>\n",
       "      <td>63</td>\n",
       "      <td>036916000</td>\n",
       "      <td>NaN</td>\n",
       "      <td>3131</td>\n",
       "      <td>NaN</td>\n",
       "      <td>77</td>\n",
       "      <td>Asia/Manila</td>\n",
       "      <td>2017-12-13</td>\n",
       "      <td>Philippines</td>\n",
       "      <td>15.5352, 120.5302</td>\n",
       "    </tr>\n",
       "    <tr>\n",
       "      <th>140865</th>\n",
       "      <td>1689413</td>\n",
       "      <td>San Jose</td>\n",
       "      <td>San Jose</td>\n",
       "      <td>San Jose</td>\n",
       "      <td>P</td>\n",
       "      <td>PPL</td>\n",
       "      <td>PH</td>\n",
       "      <td>Philippines</td>\n",
       "      <td>NaN</td>\n",
       "      <td>02</td>\n",
       "      <td>14</td>\n",
       "      <td>021506000</td>\n",
       "      <td>NaN</td>\n",
       "      <td>4533</td>\n",
       "      <td>NaN</td>\n",
       "      <td>32</td>\n",
       "      <td>Asia/Manila</td>\n",
       "      <td>2017-12-13</td>\n",
       "      <td>Philippines</td>\n",
       "      <td>17.89269, 121.87125</td>\n",
       "    </tr>\n",
       "    <tr>\n",
       "      <th>140866</th>\n",
       "      <td>684077</td>\n",
       "      <td>Boţeşti</td>\n",
       "      <td>Botesti</td>\n",
       "      <td>NaN</td>\n",
       "      <td>P</td>\n",
       "      <td>PPLA2</td>\n",
       "      <td>RO</td>\n",
       "      <td>Romania</td>\n",
       "      <td>NaN</td>\n",
       "      <td>03</td>\n",
       "      <td>14726</td>\n",
       "      <td>NaN</td>\n",
       "      <td>NaN</td>\n",
       "      <td>1330</td>\n",
       "      <td>NaN</td>\n",
       "      <td>465</td>\n",
       "      <td>Europe/Bucharest</td>\n",
       "      <td>2012-06-12</td>\n",
       "      <td>Romania</td>\n",
       "      <td>45.01667, 25.13333</td>\n",
       "    </tr>\n",
       "  </tbody>\n",
       "</table>\n",
       "<p>140867 rows × 20 columns</p>\n",
       "</div>"
      ],
      "text/plain": [
       "        Geoname ID              Name        ASCII Name  \\\n",
       "0          4946136            Oakham            Oakham   \n",
       "1          4946372             Onset             Onset   \n",
       "2          4947641          Plympton          Plympton   \n",
       "3          4948087      Provincetown      Provincetown   \n",
       "4          4950790          Sherborn          Sherborn   \n",
       "...            ...               ...               ...   \n",
       "140862     1688216        Santa Cruz        Santa Cruz   \n",
       "140863     1688830         San Pablo         San Pablo   \n",
       "140864     1689220  San Juan de Mata  San Juan de Mata   \n",
       "140865     1689413          San Jose          San Jose   \n",
       "140866      684077           Boţeşti           Botesti   \n",
       "\n",
       "                                          Alternate Names Feature Class  \\\n",
       "0       Oakham,Oakham Centre,Oakkham,awkham,awkham  ma...             P   \n",
       "1                                                     NaN             P   \n",
       "2       Plimpton,plymptwn  masachwst,Плимптон,پلیمپتون...             P   \n",
       "3       Cap Blanc,PVC,Provincetown,Provinstaun,Village...             P   \n",
       "4       Shehrbon,Sherborn,Sherborn Centre,shrbwrn  mas...             P   \n",
       "...                                                   ...           ...   \n",
       "140862                            sheng ke lu si qu,聖克魯斯區             P   \n",
       "140863  Dakbayan sa San Pablo,Kota San Pablo,Lungsod n...             P   \n",
       "140864                  San Juan de Maja,San Juan de Mata             P   \n",
       "140865                                           San Jose             P   \n",
       "140866                                                NaN             P   \n",
       "\n",
       "       Feature Code Country Code Country name EN Country Code 2 Admin1 Code  \\\n",
       "0               PPL           US   United States            NaN          MA   \n",
       "1               PPL           US   United States            NaN          MA   \n",
       "2               PPL           US   United States            NaN          MA   \n",
       "3               PPL           US   United States            NaN          MA   \n",
       "4               PPL           US   United States            NaN          MA   \n",
       "...             ...          ...             ...            ...         ...   \n",
       "140862         PPLX           PH     Philippines            NaN         NCR   \n",
       "140863          PPL           PH     Philippines            NaN          40   \n",
       "140864          PPL           PH     Philippines            NaN          03   \n",
       "140865          PPL           PH     Philippines            NaN          02   \n",
       "140866        PPLA2           RO         Romania            NaN          03   \n",
       "\n",
       "       Admin2 Code Admin3 Code Admin4 Code  Population  Elevation  \\\n",
       "0              027       50670         NaN        1702      328.0   \n",
       "1              023       72985         NaN        1573        4.0   \n",
       "2              023       54415         NaN        2683       36.0   \n",
       "3              001       55500         NaN        2642       10.0   \n",
       "4              017       61380         NaN        4273       63.0   \n",
       "...            ...         ...         ...         ...        ...   \n",
       "140862   133900000   133903000         NaN      126735        NaN   \n",
       "140863          33   043424000         NaN      207577        NaN   \n",
       "140864          63   036916000         NaN        3131        NaN   \n",
       "140865          14   021506000         NaN        4533        NaN   \n",
       "140866       14726         NaN         NaN        1330        NaN   \n",
       "\n",
       "        DIgital Elevation Model          Timezone Modification date  \\\n",
       "0                           328  America/New_York        2017-05-23   \n",
       "1                             5  America/New_York        2017-05-23   \n",
       "2                            36  America/New_York        2017-05-23   \n",
       "3                            12  America/New_York        2018-01-04   \n",
       "4                            70  America/New_York        2017-05-23   \n",
       "...                         ...               ...               ...   \n",
       "140862                       15       Asia/Manila        2022-08-09   \n",
       "140863                      115       Asia/Manila        2017-12-13   \n",
       "140864                       77       Asia/Manila        2017-12-13   \n",
       "140865                       32       Asia/Manila        2017-12-13   \n",
       "140866                      465  Europe/Bucharest        2012-06-12   \n",
       "\n",
       "             LABEL EN          Coordinates  \n",
       "0       United States  42.35287, -72.04535  \n",
       "1       United States  41.74177, -70.65781  \n",
       "2       United States  41.95288, -70.81448  \n",
       "3       United States   42.05295, -70.1864  \n",
       "4       United States  42.23899, -71.36978  \n",
       "...               ...                  ...  \n",
       "140862    Philippines      14.6, 120.98333  \n",
       "140863    Philippines    14.0683, 121.3256  \n",
       "140864    Philippines    15.5352, 120.5302  \n",
       "140865    Philippines  17.89269, 121.87125  \n",
       "140866        Romania   45.01667, 25.13333  \n",
       "\n",
       "[140867 rows x 20 columns]"
      ]
     },
     "execution_count": 58,
     "metadata": {},
     "output_type": "execute_result"
    }
   ],
   "source": [
    "df_city"
   ]
  },
  {
   "cell_type": "code",
   "execution_count": 61,
   "id": "53e2f702",
   "metadata": {
    "scrolled": true
   },
   "outputs": [
    {
     "data": {
      "text/plain": [
       "Geoname ID                   int64\n",
       "Name                        object\n",
       "ASCII Name                  object\n",
       "Alternate Names             object\n",
       "Feature Class               object\n",
       "Feature Code                object\n",
       "Country Code                object\n",
       "Country name EN             object\n",
       "Country Code 2              object\n",
       "Admin1 Code                 object\n",
       "Admin2 Code                 object\n",
       "Admin3 Code                 object\n",
       "Admin4 Code                 object\n",
       "Population                   int64\n",
       "Elevation                  float64\n",
       "DIgital Elevation Model      int64\n",
       "Timezone                    object\n",
       "Modification date           object\n",
       "LABEL EN                    object\n",
       "Coordinates                 object\n",
       "dtype: object"
      ]
     },
     "execution_count": 61,
     "metadata": {},
     "output_type": "execute_result"
    }
   ],
   "source": [
    "df_city.dtypes"
   ]
  },
  {
   "cell_type": "code",
   "execution_count": 63,
   "id": "70aabaf0",
   "metadata": {},
   "outputs": [
    {
     "data": {
      "text/html": [
       "<div>\n",
       "<style scoped>\n",
       "    .dataframe tbody tr th:only-of-type {\n",
       "        vertical-align: middle;\n",
       "    }\n",
       "\n",
       "    .dataframe tbody tr th {\n",
       "        vertical-align: top;\n",
       "    }\n",
       "\n",
       "    .dataframe thead th {\n",
       "        text-align: right;\n",
       "    }\n",
       "</style>\n",
       "<table border=\"1\" class=\"dataframe\">\n",
       "  <thead>\n",
       "    <tr style=\"text-align: right;\">\n",
       "      <th></th>\n",
       "      <th>Geoname ID</th>\n",
       "      <th>Population</th>\n",
       "      <th>Elevation</th>\n",
       "      <th>DIgital Elevation Model</th>\n",
       "    </tr>\n",
       "  </thead>\n",
       "  <tbody>\n",
       "    <tr>\n",
       "      <th>count</th>\n",
       "      <td>1.408670e+05</td>\n",
       "      <td>1.408670e+05</td>\n",
       "      <td>27643.000000</td>\n",
       "      <td>140867.000000</td>\n",
       "    </tr>\n",
       "    <tr>\n",
       "      <th>mean</th>\n",
       "      <td>3.281084e+06</td>\n",
       "      <td>2.557869e+04</td>\n",
       "      <td>289.202945</td>\n",
       "      <td>381.435027</td>\n",
       "    </tr>\n",
       "    <tr>\n",
       "      <th>std</th>\n",
       "      <td>2.261030e+06</td>\n",
       "      <td>2.313706e+05</td>\n",
       "      <td>353.368653</td>\n",
       "      <td>684.183483</td>\n",
       "    </tr>\n",
       "    <tr>\n",
       "      <th>min</th>\n",
       "      <td>2.960000e+03</td>\n",
       "      <td>0.000000e+00</td>\n",
       "      <td>-60.000000</td>\n",
       "      <td>-9999.000000</td>\n",
       "    </tr>\n",
       "    <tr>\n",
       "      <th>25%</th>\n",
       "      <td>1.790674e+06</td>\n",
       "      <td>1.286000e+03</td>\n",
       "      <td>61.000000</td>\n",
       "      <td>49.000000</td>\n",
       "    </tr>\n",
       "    <tr>\n",
       "      <th>50%</th>\n",
       "      <td>2.988213e+06</td>\n",
       "      <td>2.977000e+03</td>\n",
       "      <td>197.000000</td>\n",
       "      <td>179.000000</td>\n",
       "    </tr>\n",
       "    <tr>\n",
       "      <th>75%</th>\n",
       "      <td>3.914739e+06</td>\n",
       "      <td>9.781500e+03</td>\n",
       "      <td>348.000000</td>\n",
       "      <td>462.000000</td>\n",
       "    </tr>\n",
       "    <tr>\n",
       "      <th>max</th>\n",
       "      <td>1.251067e+07</td>\n",
       "      <td>2.231547e+07</td>\n",
       "      <td>3890.000000</td>\n",
       "      <td>5622.000000</td>\n",
       "    </tr>\n",
       "  </tbody>\n",
       "</table>\n",
       "</div>"
      ],
      "text/plain": [
       "         Geoname ID    Population     Elevation  DIgital Elevation Model\n",
       "count  1.408670e+05  1.408670e+05  27643.000000            140867.000000\n",
       "mean   3.281084e+06  2.557869e+04    289.202945               381.435027\n",
       "std    2.261030e+06  2.313706e+05    353.368653               684.183483\n",
       "min    2.960000e+03  0.000000e+00    -60.000000             -9999.000000\n",
       "25%    1.790674e+06  1.286000e+03     61.000000                49.000000\n",
       "50%    2.988213e+06  2.977000e+03    197.000000               179.000000\n",
       "75%    3.914739e+06  9.781500e+03    348.000000               462.000000\n",
       "max    1.251067e+07  2.231547e+07   3890.000000              5622.000000"
      ]
     },
     "execution_count": 63,
     "metadata": {},
     "output_type": "execute_result"
    }
   ],
   "source": [
    "df_city.describe()"
   ]
  },
  {
   "cell_type": "code",
   "execution_count": 64,
   "id": "6fb5287f",
   "metadata": {},
   "outputs": [
    {
     "data": {
      "text/plain": [
       "Geoname ID                      0\n",
       "Name                            0\n",
       "ASCII Name                      1\n",
       "Alternate Names             24400\n",
       "Feature Class                   0\n",
       "Feature Code                    0\n",
       "Country Code                   45\n",
       "Country name EN               168\n",
       "Country Code 2             140786\n",
       "Admin1 Code                    27\n",
       "Admin2 Code                 19034\n",
       "Admin3 Code                 72073\n",
       "Admin4 Code                120305\n",
       "Population                      0\n",
       "Elevation                  113224\n",
       "DIgital Elevation Model         0\n",
       "Timezone                        0\n",
       "Modification date               0\n",
       "LABEL EN                      168\n",
       "Coordinates                     0\n",
       "dtype: int64"
      ]
     },
     "execution_count": 64,
     "metadata": {},
     "output_type": "execute_result"
    }
   ],
   "source": [
    "df_city.isna().sum()"
   ]
  },
  {
   "cell_type": "code",
   "execution_count": 65,
   "id": "835bb3dd",
   "metadata": {},
   "outputs": [
    {
     "data": {
      "text/plain": [
       "Index(['Geoname ID', 'Name', 'ASCII Name', 'Alternate Names', 'Feature Class',\n",
       "       'Feature Code', 'Country Code', 'Country name EN', 'Country Code 2',\n",
       "       'Admin1 Code', 'Admin2 Code', 'Admin3 Code', 'Admin4 Code',\n",
       "       'Population', 'Elevation', 'DIgital Elevation Model', 'Timezone',\n",
       "       'Modification date', 'LABEL EN', 'Coordinates'],\n",
       "      dtype='object')"
      ]
     },
     "execution_count": 65,
     "metadata": {},
     "output_type": "execute_result"
    }
   ],
   "source": [
    "df_city.columns"
   ]
  },
  {
   "cell_type": "code",
   "execution_count": 84,
   "id": "38b8cf0b",
   "metadata": {},
   "outputs": [],
   "source": [
    "df_city[['latitude', 'longitude']] = df_city['Coordinates'].str.split(',', 1, expand=True)"
   ]
  },
  {
   "cell_type": "code",
   "execution_count": 85,
   "id": "855c876d",
   "metadata": {},
   "outputs": [],
   "source": [
    "df_city.columns = df_city.columns.str.lower() \n",
    "df_city.columns = df_city.columns.str.replace(' ','_')"
   ]
  },
  {
   "cell_type": "code",
   "execution_count": 75,
   "id": "7d834ee7",
   "metadata": {},
   "outputs": [
    {
     "data": {
      "text/plain": [
       "Index(['geoname_id', 'name', 'ascii_name', 'alternate_names', 'feature_class',\n",
       "       'feature_code', 'country_code', 'country_name_en', 'country_code_2',\n",
       "       'admin1_code', 'admin2_code', 'admin3_code', 'admin4_code',\n",
       "       'population', 'elevation', 'digital_elevation_model', 'timezone',\n",
       "       'modification_date', 'label_en', 'coordinates', 'latitude',\n",
       "       'longitude'],\n",
       "      dtype='object')"
      ]
     },
     "execution_count": 75,
     "metadata": {},
     "output_type": "execute_result"
    }
   ],
   "source": [
    "df_city.columns"
   ]
  },
  {
   "cell_type": "code",
   "execution_count": 76,
   "id": "14c824f8",
   "metadata": {},
   "outputs": [
    {
     "data": {
      "text/plain": [
       "geoname_id                      0\n",
       "name                            0\n",
       "ascii_name                      1\n",
       "alternate_names             24400\n",
       "feature_class                   0\n",
       "feature_code                    0\n",
       "country_code                   45\n",
       "country_name_en               168\n",
       "country_code_2             140786\n",
       "admin1_code                    27\n",
       "admin2_code                 19034\n",
       "admin3_code                 72073\n",
       "admin4_code                120305\n",
       "population                      0\n",
       "elevation                  113224\n",
       "digital_elevation_model         0\n",
       "timezone                        0\n",
       "modification_date               0\n",
       "label_en                      168\n",
       "coordinates                     0\n",
       "latitude                        0\n",
       "longitude                       0\n",
       "dtype: int64"
      ]
     },
     "execution_count": 76,
     "metadata": {},
     "output_type": "execute_result"
    }
   ],
   "source": [
    "df_city.isna().sum()"
   ]
  },
  {
   "cell_type": "code",
   "execution_count": 86,
   "id": "61f34fbb",
   "metadata": {},
   "outputs": [],
   "source": [
    "df_city.drop(['alternate_names', 'country_code_2', 'admin2_code', 'admin3_code', 'admin4_code'], axis=1, inplace=True)"
   ]
  },
  {
   "cell_type": "code",
   "execution_count": null,
   "id": "1818cc29",
   "metadata": {},
   "outputs": [],
   "source": [
    "df.drop(columns=['Unnamed: 0', 'ascii_name', 'feature_class', 'feature_code', 'admin1_code', 'digital_elevation_model', 'timezone', 'label_en', 'coordinates'  ], inplace=True)"
   ]
  },
  {
   "cell_type": "code",
   "execution_count": 21,
   "id": "1e63f083",
   "metadata": {},
   "outputs": [],
   "source": [
    "df_city.drop(columns='Unnamed: 0', inplace=True)"
   ]
  },
  {
   "cell_type": "code",
   "execution_count": 6,
   "id": "7404558c",
   "metadata": {},
   "outputs": [
    {
     "data": {
      "text/plain": [
       "geoname_id                0\n",
       "name                      0\n",
       "country_code             45\n",
       "country_name_en         168\n",
       "population                0\n",
       "elevation            113224\n",
       "modification_date         0\n",
       "latitude                  0\n",
       "longitude                 0\n",
       "dtype: int64"
      ]
     },
     "execution_count": 6,
     "metadata": {},
     "output_type": "execute_result"
    }
   ],
   "source": [
    "df_city.isna().sum()"
   ]
  },
  {
   "cell_type": "code",
   "execution_count": 7,
   "id": "df528f38",
   "metadata": {},
   "outputs": [],
   "source": [
    "df_city = df_city[df_city['country_name_en'].notna()] "
   ]
  },
  {
   "cell_type": "code",
   "execution_count": 10,
   "id": "a498a624",
   "metadata": {},
   "outputs": [],
   "source": [
    "df_city = df_city[df_city['country_code'].notna()]"
   ]
  },
  {
   "cell_type": "code",
   "execution_count": 11,
   "id": "85c0c853",
   "metadata": {},
   "outputs": [],
   "source": [
    "df_city.to_csv('geonames-all-cities-with-a-population-1000_clean.csv', index=None)"
   ]
  },
  {
   "cell_type": "markdown",
   "id": "e21faafd",
   "metadata": {},
   "source": [
    "# b. Selecting the cities"
   ]
  },
  {
   "cell_type": "code",
   "execution_count": 3,
   "id": "b704d435",
   "metadata": {},
   "outputs": [],
   "source": [
    "df_city=pd.read_csv('geonames-all-cities-with-a-population-1000_clean.csv')"
   ]
  },
  {
   "cell_type": "code",
   "execution_count": 4,
   "id": "df06dce4",
   "metadata": {
    "scrolled": true
   },
   "outputs": [
    {
     "data": {
      "text/html": [
       "<div>\n",
       "<style scoped>\n",
       "    .dataframe tbody tr th:only-of-type {\n",
       "        vertical-align: middle;\n",
       "    }\n",
       "\n",
       "    .dataframe tbody tr th {\n",
       "        vertical-align: top;\n",
       "    }\n",
       "\n",
       "    .dataframe thead th {\n",
       "        text-align: right;\n",
       "    }\n",
       "</style>\n",
       "<table border=\"1\" class=\"dataframe\">\n",
       "  <thead>\n",
       "    <tr style=\"text-align: right;\">\n",
       "      <th></th>\n",
       "      <th>Unnamed: 0</th>\n",
       "      <th>geoname_id</th>\n",
       "      <th>name</th>\n",
       "      <th>country_code</th>\n",
       "      <th>country_name_en</th>\n",
       "      <th>population</th>\n",
       "      <th>elevation</th>\n",
       "      <th>modification_date</th>\n",
       "      <th>latitude</th>\n",
       "      <th>longitude</th>\n",
       "    </tr>\n",
       "  </thead>\n",
       "  <tbody>\n",
       "    <tr>\n",
       "      <th>55218</th>\n",
       "      <td>55218</td>\n",
       "      <td>1796236</td>\n",
       "      <td>Shanghai</td>\n",
       "      <td>CN</td>\n",
       "      <td>China</td>\n",
       "      <td>22315474</td>\n",
       "      <td>NaN</td>\n",
       "      <td>2021-09-20</td>\n",
       "      <td>31.22222</td>\n",
       "      <td>121.45806</td>\n",
       "    </tr>\n",
       "    <tr>\n",
       "      <th>132447</th>\n",
       "      <td>132447</td>\n",
       "      <td>2332459</td>\n",
       "      <td>Lagos</td>\n",
       "      <td>NG</td>\n",
       "      <td>Nigeria</td>\n",
       "      <td>15388000</td>\n",
       "      <td>NaN</td>\n",
       "      <td>2022-04-01</td>\n",
       "      <td>6.45407</td>\n",
       "      <td>3.39467</td>\n",
       "    </tr>\n",
       "    <tr>\n",
       "      <th>126591</th>\n",
       "      <td>126591</td>\n",
       "      <td>745044</td>\n",
       "      <td>Istanbul</td>\n",
       "      <td>TR</td>\n",
       "      <td>Turkey</td>\n",
       "      <td>14804116</td>\n",
       "      <td>NaN</td>\n",
       "      <td>2022-03-09</td>\n",
       "      <td>41.01384</td>\n",
       "      <td>28.94966</td>\n",
       "    </tr>\n",
       "    <tr>\n",
       "      <th>38681</th>\n",
       "      <td>38681</td>\n",
       "      <td>1275339</td>\n",
       "      <td>Mumbai</td>\n",
       "      <td>IN</td>\n",
       "      <td>India</td>\n",
       "      <td>12691836</td>\n",
       "      <td>NaN</td>\n",
       "      <td>2022-12-09</td>\n",
       "      <td>19.07283</td>\n",
       "      <td>72.88261</td>\n",
       "    </tr>\n",
       "    <tr>\n",
       "      <th>120910</th>\n",
       "      <td>120910</td>\n",
       "      <td>3530597</td>\n",
       "      <td>Mexico City</td>\n",
       "      <td>MX</td>\n",
       "      <td>Mexico</td>\n",
       "      <td>12294193</td>\n",
       "      <td>NaN</td>\n",
       "      <td>2021-07-25</td>\n",
       "      <td>19.42847</td>\n",
       "      <td>-99.12766</td>\n",
       "    </tr>\n",
       "    <tr>\n",
       "      <th>116414</th>\n",
       "      <td>116414</td>\n",
       "      <td>1174872</td>\n",
       "      <td>Karachi</td>\n",
       "      <td>PK</td>\n",
       "      <td>Pakistan</td>\n",
       "      <td>11624219</td>\n",
       "      <td>NaN</td>\n",
       "      <td>2022-03-07</td>\n",
       "      <td>24.86080</td>\n",
       "      <td>67.01040</td>\n",
       "    </tr>\n",
       "    <tr>\n",
       "      <th>132499</th>\n",
       "      <td>132499</td>\n",
       "      <td>524901</td>\n",
       "      <td>Moscow</td>\n",
       "      <td>RU</td>\n",
       "      <td>Russian Federation</td>\n",
       "      <td>10381222</td>\n",
       "      <td>NaN</td>\n",
       "      <td>2022-12-10</td>\n",
       "      <td>55.75222</td>\n",
       "      <td>37.61556</td>\n",
       "    </tr>\n",
       "    <tr>\n",
       "      <th>120726</th>\n",
       "      <td>120726</td>\n",
       "      <td>1185241</td>\n",
       "      <td>Dhaka</td>\n",
       "      <td>BD</td>\n",
       "      <td>Bangladesh</td>\n",
       "      <td>10356500</td>\n",
       "      <td>NaN</td>\n",
       "      <td>2022-03-09</td>\n",
       "      <td>23.71040</td>\n",
       "      <td>90.40744</td>\n",
       "    </tr>\n",
       "    <tr>\n",
       "      <th>86697</th>\n",
       "      <td>86697</td>\n",
       "      <td>1835848</td>\n",
       "      <td>Seoul</td>\n",
       "      <td>KR</td>\n",
       "      <td>Korea, Republic of</td>\n",
       "      <td>10349312</td>\n",
       "      <td>NaN</td>\n",
       "      <td>2022-03-03</td>\n",
       "      <td>37.56600</td>\n",
       "      <td>126.97840</td>\n",
       "    </tr>\n",
       "    <tr>\n",
       "      <th>30478</th>\n",
       "      <td>30478</td>\n",
       "      <td>3448439</td>\n",
       "      <td>São Paulo</td>\n",
       "      <td>BR</td>\n",
       "      <td>Brazil</td>\n",
       "      <td>10021295</td>\n",
       "      <td>NaN</td>\n",
       "      <td>2022-09-21</td>\n",
       "      <td>-23.54750</td>\n",
       "      <td>-46.63611</td>\n",
       "    </tr>\n",
       "    <tr>\n",
       "      <th>123089</th>\n",
       "      <td>123089</td>\n",
       "      <td>360630</td>\n",
       "      <td>Cairo</td>\n",
       "      <td>EG</td>\n",
       "      <td>Egypt</td>\n",
       "      <td>9606916</td>\n",
       "      <td>NaN</td>\n",
       "      <td>2022-04-18</td>\n",
       "      <td>30.06263</td>\n",
       "      <td>31.24967</td>\n",
       "    </tr>\n",
       "    <tr>\n",
       "      <th>5028</th>\n",
       "      <td>5028</td>\n",
       "      <td>1566083</td>\n",
       "      <td>Ho Chi Minh City</td>\n",
       "      <td>VN</td>\n",
       "      <td>Viet Nam</td>\n",
       "      <td>8993082</td>\n",
       "      <td>NaN</td>\n",
       "      <td>2022-06-09</td>\n",
       "      <td>10.82302</td>\n",
       "      <td>106.62965</td>\n",
       "    </tr>\n",
       "    <tr>\n",
       "      <th>112544</th>\n",
       "      <td>112544</td>\n",
       "      <td>2643743</td>\n",
       "      <td>London</td>\n",
       "      <td>GB</td>\n",
       "      <td>United Kingdom</td>\n",
       "      <td>8961989</td>\n",
       "      <td>NaN</td>\n",
       "      <td>2022-03-09</td>\n",
       "      <td>51.50853</td>\n",
       "      <td>-0.12574</td>\n",
       "    </tr>\n",
       "    <tr>\n",
       "      <th>124984</th>\n",
       "      <td>124984</td>\n",
       "      <td>5128581</td>\n",
       "      <td>New York City</td>\n",
       "      <td>US</td>\n",
       "      <td>United States</td>\n",
       "      <td>8804190</td>\n",
       "      <td>10.0</td>\n",
       "      <td>2022-03-09</td>\n",
       "      <td>40.71427</td>\n",
       "      <td>-74.00597</td>\n",
       "    </tr>\n",
       "    <tr>\n",
       "      <th>119164</th>\n",
       "      <td>119164</td>\n",
       "      <td>1642911</td>\n",
       "      <td>Jakarta</td>\n",
       "      <td>ID</td>\n",
       "      <td>Indonesia</td>\n",
       "      <td>8540121</td>\n",
       "      <td>NaN</td>\n",
       "      <td>2023-01-01</td>\n",
       "      <td>-6.21462</td>\n",
       "      <td>106.84513</td>\n",
       "    </tr>\n",
       "    <tr>\n",
       "      <th>99123</th>\n",
       "      <td>99123</td>\n",
       "      <td>1850147</td>\n",
       "      <td>Tokyo</td>\n",
       "      <td>JP</td>\n",
       "      <td>Japan</td>\n",
       "      <td>8336599</td>\n",
       "      <td>NaN</td>\n",
       "      <td>2022-11-25</td>\n",
       "      <td>35.68950</td>\n",
       "      <td>139.69171</td>\n",
       "    </tr>\n",
       "    <tr>\n",
       "      <th>13151</th>\n",
       "      <td>13151</td>\n",
       "      <td>1668341</td>\n",
       "      <td>Taipei</td>\n",
       "      <td>TW</td>\n",
       "      <td>Taiwan, China</td>\n",
       "      <td>7871900</td>\n",
       "      <td>NaN</td>\n",
       "      <td>2022-03-09</td>\n",
       "      <td>25.04776</td>\n",
       "      <td>121.53185</td>\n",
       "    </tr>\n",
       "    <tr>\n",
       "      <th>129892</th>\n",
       "      <td>129892</td>\n",
       "      <td>2314302</td>\n",
       "      <td>Kinshasa</td>\n",
       "      <td>CD</td>\n",
       "      <td>Congo, Democratic Republic of the</td>\n",
       "      <td>7785965</td>\n",
       "      <td>NaN</td>\n",
       "      <td>2022-03-09</td>\n",
       "      <td>-4.32758</td>\n",
       "      <td>15.31357</td>\n",
       "    </tr>\n",
       "    <tr>\n",
       "      <th>124597</th>\n",
       "      <td>124597</td>\n",
       "      <td>3936456</td>\n",
       "      <td>Lima</td>\n",
       "      <td>PE</td>\n",
       "      <td>Peru</td>\n",
       "      <td>7737002</td>\n",
       "      <td>NaN</td>\n",
       "      <td>2019-09-05</td>\n",
       "      <td>-12.04318</td>\n",
       "      <td>-77.02824</td>\n",
       "    </tr>\n",
       "    <tr>\n",
       "      <th>122477</th>\n",
       "      <td>122477</td>\n",
       "      <td>3688689</td>\n",
       "      <td>Bogotá</td>\n",
       "      <td>CO</td>\n",
       "      <td>Colombia</td>\n",
       "      <td>7674366</td>\n",
       "      <td>NaN</td>\n",
       "      <td>2022-03-09</td>\n",
       "      <td>4.60971</td>\n",
       "      <td>-74.08175</td>\n",
       "    </tr>\n",
       "    <tr>\n",
       "      <th>101907</th>\n",
       "      <td>101907</td>\n",
       "      <td>1819729</td>\n",
       "      <td>Hong Kong</td>\n",
       "      <td>HK</td>\n",
       "      <td>Hong Kong, China</td>\n",
       "      <td>7482500</td>\n",
       "      <td>NaN</td>\n",
       "      <td>2021-09-09</td>\n",
       "      <td>22.27832</td>\n",
       "      <td>114.17469</td>\n",
       "    </tr>\n",
       "    <tr>\n",
       "      <th>61007</th>\n",
       "      <td>61007</td>\n",
       "      <td>98182</td>\n",
       "      <td>Baghdad</td>\n",
       "      <td>IQ</td>\n",
       "      <td>Iraq</td>\n",
       "      <td>7216000</td>\n",
       "      <td>NaN</td>\n",
       "      <td>2022-03-09</td>\n",
       "      <td>33.34058</td>\n",
       "      <td>44.40088</td>\n",
       "    </tr>\n",
       "    <tr>\n",
       "      <th>56842</th>\n",
       "      <td>56842</td>\n",
       "      <td>112931</td>\n",
       "      <td>Tehran</td>\n",
       "      <td>IR</td>\n",
       "      <td>Iran, Islamic Rep. of</td>\n",
       "      <td>7153309</td>\n",
       "      <td>NaN</td>\n",
       "      <td>2022-03-09</td>\n",
       "      <td>35.69439</td>\n",
       "      <td>51.42151</td>\n",
       "    </tr>\n",
       "    <tr>\n",
       "      <th>96205</th>\n",
       "      <td>96205</td>\n",
       "      <td>2293538</td>\n",
       "      <td>Abidjan</td>\n",
       "      <td>CI</td>\n",
       "      <td>Côte d'Ivoire</td>\n",
       "      <td>6321017</td>\n",
       "      <td>NaN</td>\n",
       "      <td>2022-12-14</td>\n",
       "      <td>5.35444</td>\n",
       "      <td>-4.00167</td>\n",
       "    </tr>\n",
       "    <tr>\n",
       "      <th>77784</th>\n",
       "      <td>77784</td>\n",
       "      <td>1880252</td>\n",
       "      <td>Singapore</td>\n",
       "      <td>SG</td>\n",
       "      <td>Singapore</td>\n",
       "      <td>5638700</td>\n",
       "      <td>NaN</td>\n",
       "      <td>2022-06-05</td>\n",
       "      <td>1.28967</td>\n",
       "      <td>103.85007</td>\n",
       "    </tr>\n",
       "    <tr>\n",
       "      <th>15303</th>\n",
       "      <td>15303</td>\n",
       "      <td>993800</td>\n",
       "      <td>Johannesburg</td>\n",
       "      <td>ZA</td>\n",
       "      <td>South Africa</td>\n",
       "      <td>5635127</td>\n",
       "      <td>NaN</td>\n",
       "      <td>2022-08-16</td>\n",
       "      <td>-26.20227</td>\n",
       "      <td>28.04363</td>\n",
       "    </tr>\n",
       "    <tr>\n",
       "      <th>58380</th>\n",
       "      <td>58380</td>\n",
       "      <td>1609350</td>\n",
       "      <td>Bangkok</td>\n",
       "      <td>TH</td>\n",
       "      <td>Thailand</td>\n",
       "      <td>5104476</td>\n",
       "      <td>NaN</td>\n",
       "      <td>2022-09-20</td>\n",
       "      <td>13.75398</td>\n",
       "      <td>100.50144</td>\n",
       "    </tr>\n",
       "    <tr>\n",
       "      <th>104200</th>\n",
       "      <td>104200</td>\n",
       "      <td>3871336</td>\n",
       "      <td>Santiago</td>\n",
       "      <td>CL</td>\n",
       "      <td>Chile</td>\n",
       "      <td>4837295</td>\n",
       "      <td>NaN</td>\n",
       "      <td>2022-03-09</td>\n",
       "      <td>-33.45694</td>\n",
       "      <td>-70.64827</td>\n",
       "    </tr>\n",
       "    <tr>\n",
       "      <th>77754</th>\n",
       "      <td>77754</td>\n",
       "      <td>105343</td>\n",
       "      <td>Jeddah</td>\n",
       "      <td>SA</td>\n",
       "      <td>Saudi Arabia</td>\n",
       "      <td>4697000</td>\n",
       "      <td>NaN</td>\n",
       "      <td>2022-10-23</td>\n",
       "      <td>21.49012</td>\n",
       "      <td>39.18624</td>\n",
       "    </tr>\n",
       "    <tr>\n",
       "      <th>18943</th>\n",
       "      <td>18943</td>\n",
       "      <td>2147714</td>\n",
       "      <td>Sydney</td>\n",
       "      <td>AU</td>\n",
       "      <td>Australia</td>\n",
       "      <td>4627345</td>\n",
       "      <td>NaN</td>\n",
       "      <td>2022-03-06</td>\n",
       "      <td>-33.86785</td>\n",
       "      <td>151.20732</td>\n",
       "    </tr>\n",
       "  </tbody>\n",
       "</table>\n",
       "</div>"
      ],
      "text/plain": [
       "        Unnamed: 0  geoname_id              name country_code  \\\n",
       "55218        55218     1796236          Shanghai           CN   \n",
       "132447      132447     2332459             Lagos           NG   \n",
       "126591      126591      745044          Istanbul           TR   \n",
       "38681        38681     1275339            Mumbai           IN   \n",
       "120910      120910     3530597       Mexico City           MX   \n",
       "116414      116414     1174872           Karachi           PK   \n",
       "132499      132499      524901            Moscow           RU   \n",
       "120726      120726     1185241             Dhaka           BD   \n",
       "86697        86697     1835848             Seoul           KR   \n",
       "30478        30478     3448439         São Paulo           BR   \n",
       "123089      123089      360630             Cairo           EG   \n",
       "5028          5028     1566083  Ho Chi Minh City           VN   \n",
       "112544      112544     2643743            London           GB   \n",
       "124984      124984     5128581     New York City           US   \n",
       "119164      119164     1642911           Jakarta           ID   \n",
       "99123        99123     1850147             Tokyo           JP   \n",
       "13151        13151     1668341            Taipei           TW   \n",
       "129892      129892     2314302          Kinshasa           CD   \n",
       "124597      124597     3936456              Lima           PE   \n",
       "122477      122477     3688689            Bogotá           CO   \n",
       "101907      101907     1819729         Hong Kong           HK   \n",
       "61007        61007       98182           Baghdad           IQ   \n",
       "56842        56842      112931            Tehran           IR   \n",
       "96205        96205     2293538           Abidjan           CI   \n",
       "77784        77784     1880252         Singapore           SG   \n",
       "15303        15303      993800      Johannesburg           ZA   \n",
       "58380        58380     1609350           Bangkok           TH   \n",
       "104200      104200     3871336          Santiago           CL   \n",
       "77754        77754      105343            Jeddah           SA   \n",
       "18943        18943     2147714            Sydney           AU   \n",
       "\n",
       "                          country_name_en  population  elevation  \\\n",
       "55218                               China    22315474        NaN   \n",
       "132447                            Nigeria    15388000        NaN   \n",
       "126591                             Turkey    14804116        NaN   \n",
       "38681                               India    12691836        NaN   \n",
       "120910                             Mexico    12294193        NaN   \n",
       "116414                           Pakistan    11624219        NaN   \n",
       "132499                 Russian Federation    10381222        NaN   \n",
       "120726                         Bangladesh    10356500        NaN   \n",
       "86697                  Korea, Republic of    10349312        NaN   \n",
       "30478                              Brazil    10021295        NaN   \n",
       "123089                              Egypt     9606916        NaN   \n",
       "5028                             Viet Nam     8993082        NaN   \n",
       "112544                     United Kingdom     8961989        NaN   \n",
       "124984                      United States     8804190       10.0   \n",
       "119164                          Indonesia     8540121        NaN   \n",
       "99123                               Japan     8336599        NaN   \n",
       "13151                       Taiwan, China     7871900        NaN   \n",
       "129892  Congo, Democratic Republic of the     7785965        NaN   \n",
       "124597                               Peru     7737002        NaN   \n",
       "122477                           Colombia     7674366        NaN   \n",
       "101907                   Hong Kong, China     7482500        NaN   \n",
       "61007                                Iraq     7216000        NaN   \n",
       "56842               Iran, Islamic Rep. of     7153309        NaN   \n",
       "96205                       Côte d'Ivoire     6321017        NaN   \n",
       "77784                           Singapore     5638700        NaN   \n",
       "15303                        South Africa     5635127        NaN   \n",
       "58380                            Thailand     5104476        NaN   \n",
       "104200                              Chile     4837295        NaN   \n",
       "77754                        Saudi Arabia     4697000        NaN   \n",
       "18943                           Australia     4627345        NaN   \n",
       "\n",
       "       modification_date  latitude  longitude  \n",
       "55218         2021-09-20  31.22222  121.45806  \n",
       "132447        2022-04-01   6.45407    3.39467  \n",
       "126591        2022-03-09  41.01384   28.94966  \n",
       "38681         2022-12-09  19.07283   72.88261  \n",
       "120910        2021-07-25  19.42847  -99.12766  \n",
       "116414        2022-03-07  24.86080   67.01040  \n",
       "132499        2022-12-10  55.75222   37.61556  \n",
       "120726        2022-03-09  23.71040   90.40744  \n",
       "86697         2022-03-03  37.56600  126.97840  \n",
       "30478         2022-09-21 -23.54750  -46.63611  \n",
       "123089        2022-04-18  30.06263   31.24967  \n",
       "5028          2022-06-09  10.82302  106.62965  \n",
       "112544        2022-03-09  51.50853   -0.12574  \n",
       "124984        2022-03-09  40.71427  -74.00597  \n",
       "119164        2023-01-01  -6.21462  106.84513  \n",
       "99123         2022-11-25  35.68950  139.69171  \n",
       "13151         2022-03-09  25.04776  121.53185  \n",
       "129892        2022-03-09  -4.32758   15.31357  \n",
       "124597        2019-09-05 -12.04318  -77.02824  \n",
       "122477        2022-03-09   4.60971  -74.08175  \n",
       "101907        2021-09-09  22.27832  114.17469  \n",
       "61007         2022-03-09  33.34058   44.40088  \n",
       "56842         2022-03-09  35.69439   51.42151  \n",
       "96205         2022-12-14   5.35444   -4.00167  \n",
       "77784         2022-06-05   1.28967  103.85007  \n",
       "15303         2022-08-16 -26.20227   28.04363  \n",
       "58380         2022-09-20  13.75398  100.50144  \n",
       "104200        2022-03-09 -33.45694  -70.64827  \n",
       "77754         2022-10-23  21.49012   39.18624  \n",
       "18943         2022-03-06 -33.86785  151.20732  "
      ]
     },
     "execution_count": 4,
     "metadata": {},
     "output_type": "execute_result"
    }
   ],
   "source": [
    "top30_cities=df_city[df_city.groupby('country_code')['population'].rank(ascending=False) == 1].sort_values(by=[\"population\"], ascending=False).head(30)\n",
    "top30_cities"
   ]
  },
  {
   "cell_type": "code",
   "execution_count": 7,
   "id": "16e1dbb5",
   "metadata": {},
   "outputs": [],
   "source": [
    "top30_cities.to_csv('top_30_cities.csv', index=None)"
   ]
  },
  {
   "cell_type": "code",
   "execution_count": 6,
   "id": "eaaeb35a",
   "metadata": {},
   "outputs": [],
   "source": [
    "top04_cities=top30_cities.head(4)\n",
    "top04_cities.to_csv('top_04_cities.csv', index=None)"
   ]
  },
  {
   "cell_type": "code",
   "execution_count": null,
   "id": "fd499bcf",
   "metadata": {},
   "outputs": [],
   "source": [
    "df3=df2.sort_values(by=[\"population\"], ascending=False).head(100)\n",
    "df3.to_csv('top_100_cities.csv', index=None)"
   ]
  },
  {
   "cell_type": "markdown",
   "id": "a5cc93c8",
   "metadata": {},
   "source": [
    "# c. Script for extraction of all the data (one script per indicator)"
   ]
  },
  {
   "cell_type": "code",
   "execution_count": null,
   "id": "0751afbe",
   "metadata": {},
   "outputs": [],
   "source": [
    "import netCDF4\n",
    "import pandas as pd\n",
    "import numpy as np\n",
    "\n",
    "\n",
    "# Record all the years of the netCDF files into a Python list\n",
    "    \n",
    "data = netCDF4.Dataset('dataset-sis-biodiversity/BIO01_ipsl-cm5a-lr_rcp45_r1i1p1_1950-2100_v1.0.nc')\n",
    "TIME = data.variables[\"time\"]\n",
    "LAT=data.variables[\"latitude\"][:]\n",
    "LON=data.variables[\"longitude\"][:]\n",
    "INDICATOR=data.variables[\"BIO01\"]\n",
    "\n",
    "# Creating an empty Pandas DataFrame covering the whole range of data \n",
    "\n",
    "starting_date = '1950'\n",
    "ending_date = '2100'\n",
    "date_range = pd.date_range(start=starting_date, end=ending_date, freq='AS')\n",
    "dt = np.arange(0, data.variables[\"time\"].size)\n",
    "\n",
    "df = pd.DataFrame(columns=['year','geoname_id', 'name','annual_mean_temperature'],index=date_range)\n",
    "dt = np.arange(0, data.variables[\"time\"].size)\n",
    "\n",
    "# Defining the location, lat, lon based on the csv data\n",
    "cities = pd.read_csv('top_30_cities.csv')\n",
    "\n",
    "for index, row in cities.iterrows():\n",
    "    location = row['name']\n",
    "    location_latitude = row['latitude']\n",
    "    location_longitude = row['longitude']\n",
    "    city_id=row['geoname_id']\n",
    "        \n",
    "    # Squared difference between the specified lat,lon and the lat,lon of the netCDF \n",
    "    sq_diff_lat = (LAT - location_latitude)**2 \n",
    "    sq_diff_lon = (LON - location_longitude)**2\n",
    "\n",
    "    # Identify the index of the min value for lat and lon\n",
    "    min_index_lat = sq_diff_lat.argmin()\n",
    "    min_index_lon = sq_diff_lon.argmin()\n",
    "    \n",
    "\n",
    "    for time_index in dt:\n",
    "        df.iloc[time_index] = [df.index[time_index], city_id, location,INDICATOR[time_index, min_index_lat, min_index_lon]]\n",
    "    \n",
    "    print('Recording the value for '+ location)\n",
    "    df.to_csv(fr\"1.annual_mean_temperature/{location}.csv\")"
   ]
  },
  {
   "cell_type": "markdown",
   "id": "0f690eb3",
   "metadata": {},
   "source": [
    "# d. Concatenate each city file into one dataframe"
   ]
  },
  {
   "cell_type": "code",
   "execution_count": 133,
   "id": "07c4178b",
   "metadata": {},
   "outputs": [],
   "source": [
    "import glob\n",
    "import pandas as pd\n",
    "\n",
    "mean_temp_df = pd.concat(map(pd.read_csv, glob.glob(fr'1.annual_mean_temperature/*.csv')))"
   ]
  },
  {
   "attachments": {},
   "cell_type": "markdown",
   "id": "0f58481c",
   "metadata": {},
   "source": [
    "## e. Indicators Data cleaning "
   ]
  },
  {
   "cell_type": "code",
   "execution_count": 134,
   "id": "5ce7e073",
   "metadata": {},
   "outputs": [
    {
     "data": {
      "text/plain": [
       "Index(['Unnamed: 0', 'year', 'geoname_id', 'name', 'annual_mean_temperature'], dtype='object')"
      ]
     },
     "execution_count": 134,
     "metadata": {},
     "output_type": "execute_result"
    }
   ],
   "source": [
    "mean_temp_df.columns"
   ]
  },
  {
   "cell_type": "code",
   "execution_count": 137,
   "id": "08e85096",
   "metadata": {},
   "outputs": [],
   "source": [
    "mean_temp_df.drop('Unnamed: 0', axis=1, inplace=True)"
   ]
  },
  {
   "cell_type": "code",
   "execution_count": 141,
   "id": "c4428228",
   "metadata": {},
   "outputs": [
    {
     "data": {
      "text/html": [
       "<div>\n",
       "<style scoped>\n",
       "    .dataframe tbody tr th:only-of-type {\n",
       "        vertical-align: middle;\n",
       "    }\n",
       "\n",
       "    .dataframe tbody tr th {\n",
       "        vertical-align: top;\n",
       "    }\n",
       "\n",
       "    .dataframe thead th {\n",
       "        text-align: right;\n",
       "    }\n",
       "</style>\n",
       "<table border=\"1\" class=\"dataframe\">\n",
       "  <thead>\n",
       "    <tr style=\"text-align: right;\">\n",
       "      <th></th>\n",
       "      <th>year</th>\n",
       "      <th>geoname_id</th>\n",
       "      <th>name</th>\n",
       "      <th>annual_mean_temperature</th>\n",
       "    </tr>\n",
       "  </thead>\n",
       "  <tbody>\n",
       "    <tr>\n",
       "      <th>0</th>\n",
       "      <td>1950-01-01 00:00:00</td>\n",
       "      <td>2293538</td>\n",
       "      <td>Abidjan</td>\n",
       "      <td>298.87643</td>\n",
       "    </tr>\n",
       "    <tr>\n",
       "      <th>1</th>\n",
       "      <td>1951-01-01 00:00:00</td>\n",
       "      <td>2293538</td>\n",
       "      <td>Abidjan</td>\n",
       "      <td>298.48535</td>\n",
       "    </tr>\n",
       "    <tr>\n",
       "      <th>2</th>\n",
       "      <td>1952-01-01 00:00:00</td>\n",
       "      <td>2293538</td>\n",
       "      <td>Abidjan</td>\n",
       "      <td>298.23877</td>\n",
       "    </tr>\n",
       "    <tr>\n",
       "      <th>3</th>\n",
       "      <td>1953-01-01 00:00:00</td>\n",
       "      <td>2293538</td>\n",
       "      <td>Abidjan</td>\n",
       "      <td>298.51462</td>\n",
       "    </tr>\n",
       "    <tr>\n",
       "      <th>4</th>\n",
       "      <td>1954-01-01 00:00:00</td>\n",
       "      <td>2293538</td>\n",
       "      <td>Abidjan</td>\n",
       "      <td>298.47333</td>\n",
       "    </tr>\n",
       "    <tr>\n",
       "      <th>...</th>\n",
       "      <td>...</td>\n",
       "      <td>...</td>\n",
       "      <td>...</td>\n",
       "      <td>...</td>\n",
       "    </tr>\n",
       "    <tr>\n",
       "      <th>146</th>\n",
       "      <td>2096-01-01 00:00:00</td>\n",
       "      <td>1850147</td>\n",
       "      <td>Tokyo</td>\n",
       "      <td>291.53546</td>\n",
       "    </tr>\n",
       "    <tr>\n",
       "      <th>147</th>\n",
       "      <td>2097-01-01 00:00:00</td>\n",
       "      <td>1850147</td>\n",
       "      <td>Tokyo</td>\n",
       "      <td>291.36040</td>\n",
       "    </tr>\n",
       "    <tr>\n",
       "      <th>148</th>\n",
       "      <td>2098-01-01 00:00:00</td>\n",
       "      <td>1850147</td>\n",
       "      <td>Tokyo</td>\n",
       "      <td>291.64010</td>\n",
       "    </tr>\n",
       "    <tr>\n",
       "      <th>149</th>\n",
       "      <td>2099-01-01 00:00:00</td>\n",
       "      <td>1850147</td>\n",
       "      <td>Tokyo</td>\n",
       "      <td>290.09055</td>\n",
       "    </tr>\n",
       "    <tr>\n",
       "      <th>150</th>\n",
       "      <td>2100-01-01 00:00:00</td>\n",
       "      <td>1850147</td>\n",
       "      <td>Tokyo</td>\n",
       "      <td>291.01343</td>\n",
       "    </tr>\n",
       "  </tbody>\n",
       "</table>\n",
       "<p>4530 rows × 4 columns</p>\n",
       "</div>"
      ],
      "text/plain": [
       "                    year  geoname_id     name  annual_mean_temperature\n",
       "0    1950-01-01 00:00:00     2293538  Abidjan                298.87643\n",
       "1    1951-01-01 00:00:00     2293538  Abidjan                298.48535\n",
       "2    1952-01-01 00:00:00     2293538  Abidjan                298.23877\n",
       "3    1953-01-01 00:00:00     2293538  Abidjan                298.51462\n",
       "4    1954-01-01 00:00:00     2293538  Abidjan                298.47333\n",
       "..                   ...         ...      ...                      ...\n",
       "146  2096-01-01 00:00:00     1850147    Tokyo                291.53546\n",
       "147  2097-01-01 00:00:00     1850147    Tokyo                291.36040\n",
       "148  2098-01-01 00:00:00     1850147    Tokyo                291.64010\n",
       "149  2099-01-01 00:00:00     1850147    Tokyo                290.09055\n",
       "150  2100-01-01 00:00:00     1850147    Tokyo                291.01343\n",
       "\n",
       "[4530 rows x 4 columns]"
      ]
     },
     "execution_count": 141,
     "metadata": {},
     "output_type": "execute_result"
    }
   ],
   "source": [
    "mean_temp_df"
   ]
  },
  {
   "cell_type": "code",
   "execution_count": 140,
   "id": "1e11cbad",
   "metadata": {},
   "outputs": [],
   "source": [
    "mean_temp_df.to_csv('mean_temperature.csv', index=None)"
   ]
  },
  {
   "cell_type": "code",
   "execution_count": null,
   "id": "b7c257e0",
   "metadata": {},
   "outputs": [],
   "source": [
    "#Converting kelvin to celcius\n",
    "df['annual_mean_temperature']=df['annual_mean_temperature'].apply(lambda x:x-273,15)\n",
    "df['mean_temperature_coldest_quarter']=df['mean_temperature_coldest_quarter'].apply(lambda x:x-273,15)\n",
    "df['mean_temperature_warmest_quarter']=df['mean_temperature_warmest_quarter'].apply(lambda x:x-273,15)"
   ]
  },
  {
   "cell_type": "code",
   "execution_count": null,
   "id": "b9812239",
   "metadata": {},
   "outputs": [],
   "source": [
    "#Cleaning the date format to only keep the year\n",
    "final_df6['year']=final_df6['year'].str.split('-').str[0]"
   ]
  },
  {
   "cell_type": "code",
   "execution_count": null,
   "id": "28e5ecfe",
   "metadata": {},
   "outputs": [],
   "source": [
    "df.to_csv('full_data_top_100_cities_celcius_rcp8.5.csv', index=None)"
   ]
  },
  {
   "attachments": {},
   "cell_type": "markdown",
   "id": "05a0e73a",
   "metadata": {},
   "source": [
    "### Cleaning the indicators tables for SQL"
   ]
  },
  {
   "cell_type": "code",
   "execution_count": 29,
   "id": "f8292157",
   "metadata": {},
   "outputs": [],
   "source": [
    "annual_mean_temp_df=pd.read_csv('1.annual_mean_temperature.csv')\n",
    "annual_mean_temp_df.drop(columns='name', inplace=True)\n",
    "annual_mean_temp_df.to_csv('1.annual_mean_temperature.csv', index=None)"
   ]
  },
  {
   "cell_type": "code",
   "execution_count": 30,
   "id": "d2bb5516",
   "metadata": {},
   "outputs": [],
   "source": [
    "mean_temp_warmest_quarter_df=pd.read_csv('2.mean_temp_warmest_quarter.csv')\n",
    "mean_temp_warmest_quarter_df.drop(columns='name', inplace=True)\n",
    "mean_temp_warmest_quarter_df.to_csv('2.mean_temp_warmest_quarter.csv', index=None)"
   ]
  },
  {
   "cell_type": "code",
   "execution_count": 33,
   "id": "004d7403",
   "metadata": {},
   "outputs": [],
   "source": [
    "mean_temp_coldest_quarter_df=pd.read_csv('3.mean_temp_coldest_quarter.csv')\n",
    "mean_temp_coldest_quarter_df.drop(columns='name', inplace=True)\n",
    "mean_temp_coldest_quarter_df.to_csv('3.mean_temp_coldest_quarter.csv', index=None)"
   ]
  },
  {
   "cell_type": "code",
   "execution_count": 34,
   "id": "4a2e7ed2",
   "metadata": {},
   "outputs": [],
   "source": [
    "annual_mean_precipitation_df=pd.read_csv('4.annual_mean_precipitation.csv')\n",
    "annual_mean_precipitation_df.drop(columns='name', inplace=True)\n",
    "annual_mean_precipitation_df.to_csv('4.annual_mean_precipitation.csv', index=None)"
   ]
  },
  {
   "cell_type": "code",
   "execution_count": 36,
   "id": "6a037413",
   "metadata": {},
   "outputs": [],
   "source": [
    "precipitation_wettest_month_df=pd.read_csv('5.precipitation_wettest_month.csv')\n",
    "precipitation_wettest_month_df.drop(columns='name', inplace=True)\n",
    "precipitation_wettest_month_df.to_csv('5.precipitation_wettest_month.csv', index=None)"
   ]
  },
  {
   "cell_type": "code",
   "execution_count": 37,
   "id": "14d90d15",
   "metadata": {},
   "outputs": [],
   "source": [
    "precipitation_driest_month_df=pd.read_csv('6.precipitation_driest_month.csv')\n",
    "precipitation_driest_month_df.drop(columns='name', inplace=True)\n",
    "precipitation_driest_month_df.to_csv('6.precipitation_driest_month.csv', index=None)"
   ]
  },
  {
   "cell_type": "code",
   "execution_count": 55,
   "id": "b0a7f4f5",
   "metadata": {},
   "outputs": [],
   "source": [
    "# only keeping the year\n",
    "annual_mean_temp_df['year']=annual_mean_temp_df['year'].str.split('-').str[0]\n",
    "mean_temp_warmest_quarter_df['year']=mean_temp_warmest_quarter_df['year'].str.split('-').str[0]\n",
    "mean_temp_coldest_quarter_df['year']=mean_temp_coldest_quarter_df['year'].str.split('-').str[0]\n",
    "annual_mean_precipitation_df['year']=annual_mean_precipitation_df['year'].str.split('-').str[0]\n",
    "precipitation_wettest_month_df['year']=precipitation_wettest_month_df['year'].str.split('-').str[0]\n",
    "precipitation_driest_month_df['year']=precipitation_driest_month_df['year'].str.split('-').str[0]"
   ]
  },
  {
   "cell_type": "code",
   "execution_count": null,
   "id": "e2369b84",
   "metadata": {},
   "outputs": [],
   "source": [
    "annual_mean_temp_df.to_csv('1.annual_mean_temperature.csv', index=None)\n",
    "mean_temp_warmest_quarter_df.to_csv('2.mean_temp_warmest_quarter.csv', index=None)\n",
    "mean_temp_coldest_quarter_df.to_csv('3.mean_temp_coldest_quarter.csv', index=None)\n",
    "annual_mean_precipitation_df.to_csv('4.annual_mean_precipitation.csv', index=None)\n",
    "precipitation_wettest_month_df.to_csv('5.precipitation_wettest_month.csv', index=None)\n",
    "precipitation_driest_month_df.to_csv('6.precipitation_driest_month.csv', index=None)"
   ]
  },
  {
   "cell_type": "code",
   "execution_count": 5,
   "id": "6697f67b",
   "metadata": {},
   "outputs": [],
   "source": [
    "annual_mean_temp_df=pd.read_csv('1.annual_mean_temperature.csv')\n",
    "mean_temp_warmest_quarter_df=pd.read_csv('2.mean_temp_warmest_quarter.csv')\n",
    "mean_temp_coldest_quarter_df=pd.read_csv('3.mean_temp_coldest_quarter.csv')\n",
    "annual_mean_precipitation_df=pd.read_csv('4.annual_mean_precipitation.csv')\n",
    "precipitation_wettest_month_df=pd.read_csv('5.precipitation_wettest_month.csv')\n",
    "precipitation_driest_month_df=pd.read_csv('6.precipitation_driest_month.csv')"
   ]
  },
  {
   "attachments": {},
   "cell_type": "markdown",
   "id": "69a6ed28",
   "metadata": {},
   "source": [
    "# Creating the SQL database "
   ]
  },
  {
   "cell_type": "code",
   "execution_count": 10,
   "id": "aead8eba",
   "metadata": {},
   "outputs": [
    {
     "name": "stdout",
     "output_type": "stream",
     "text": [
      "Requirement already satisfied: sqlalchemy in c:\\users\\kaci\\anaconda3\\lib\\site-packages (1.4.39)\n",
      "Requirement already satisfied: greenlet!=0.4.17 in c:\\users\\kaci\\anaconda3\\lib\\site-packages (from sqlalchemy) (1.1.1)\n",
      "Note: you may need to restart the kernel to use updated packages.\n"
     ]
    }
   ],
   "source": [
    "pip install sqlalchemy"
   ]
  },
  {
   "cell_type": "code",
   "execution_count": 12,
   "id": "d3274f07",
   "metadata": {},
   "outputs": [
    {
     "name": "stdout",
     "output_type": "stream",
     "text": [
      "Collecting PyMySQL\n",
      "  Downloading PyMySQL-1.0.2-py3-none-any.whl (43 kB)\n",
      "     ---------------------------------------- 43.8/43.8 kB 2.2 MB/s eta 0:00:00\n",
      "Installing collected packages: PyMySQL\n",
      "Successfully installed PyMySQL-1.0.2\n",
      "Note: you may need to restart the kernel to use updated packages.\n"
     ]
    }
   ],
   "source": [
    "pip install PyMySQL"
   ]
  },
  {
   "cell_type": "code",
   "execution_count": 6,
   "id": "f557631c",
   "metadata": {},
   "outputs": [],
   "source": [
    "\n",
    "from sqlalchemy import create_engine\n",
    "import pymysql.cursors\n",
    "import os\n",
    "import getpass\n",
    "pw = getpass.getpass()\n",
    "connection_string = 'mysql+pymysql://root:' + pw + '@localhost:3306/'\n",
    "engine = create_engine(connection_string)"
   ]
  },
  {
   "cell_type": "code",
   "execution_count": 7,
   "id": "dda85ab5",
   "metadata": {},
   "outputs": [],
   "source": [
    "df_cities=pd.read_csv('geonames-all-cities-with-a-population-1000_clean.csv')"
   ]
  },
  {
   "cell_type": "code",
   "execution_count": 9,
   "id": "4d674f00",
   "metadata": {},
   "outputs": [
    {
     "data": {
      "text/plain": [
       "140654"
      ]
     },
     "execution_count": 9,
     "metadata": {},
     "output_type": "execute_result"
    }
   ],
   "source": [
    "df_cities.to_sql('cities', engine, 'climate_fproject', if_exists='replace', index = False)"
   ]
  },
  {
   "cell_type": "code",
   "execution_count": 10,
   "id": "2edf8f58",
   "metadata": {},
   "outputs": [
    {
     "data": {
      "text/plain": [
       "15100"
      ]
     },
     "execution_count": 10,
     "metadata": {},
     "output_type": "execute_result"
    }
   ],
   "source": [
    "annual_mean_temp_df.to_sql('an_mean_temp', engine, 'climate_fproject', if_exists='replace', index = False)"
   ]
  },
  {
   "cell_type": "code",
   "execution_count": 11,
   "id": "79d0976c",
   "metadata": {},
   "outputs": [
    {
     "data": {
      "text/plain": [
       "15100"
      ]
     },
     "execution_count": 11,
     "metadata": {},
     "output_type": "execute_result"
    }
   ],
   "source": [
    "mean_temp_warmest_quarter_df.to_sql('men_temp_warm_q', engine, 'climate_fproject', if_exists='replace', index = False)"
   ]
  },
  {
   "cell_type": "code",
   "execution_count": 12,
   "id": "9ebe5cc0",
   "metadata": {},
   "outputs": [
    {
     "data": {
      "text/plain": [
       "15100"
      ]
     },
     "execution_count": 12,
     "metadata": {},
     "output_type": "execute_result"
    }
   ],
   "source": [
    "mean_temp_coldest_quarter_df.to_sql('men_temp_cold_q', engine, 'climate_fproject', if_exists='replace', index = False)"
   ]
  },
  {
   "cell_type": "code",
   "execution_count": 13,
   "id": "84bec91f",
   "metadata": {},
   "outputs": [
    {
     "data": {
      "text/plain": [
       "15100"
      ]
     },
     "execution_count": 13,
     "metadata": {},
     "output_type": "execute_result"
    }
   ],
   "source": [
    "annual_mean_precipitation_df.to_sql('an_mean_prec', engine, 'climate_fproject', if_exists='replace', index = False)"
   ]
  },
  {
   "cell_type": "code",
   "execution_count": 14,
   "id": "2717e93d",
   "metadata": {},
   "outputs": [
    {
     "data": {
      "text/plain": [
       "15100"
      ]
     },
     "execution_count": 14,
     "metadata": {},
     "output_type": "execute_result"
    }
   ],
   "source": [
    "precipitation_wettest_month_df.to_sql('prec_wet_mon', engine, 'climate_fproject', if_exists='replace', index = False)"
   ]
  },
  {
   "cell_type": "code",
   "execution_count": 15,
   "id": "b8ae6404",
   "metadata": {},
   "outputs": [
    {
     "data": {
      "text/plain": [
       "15100"
      ]
     },
     "execution_count": 15,
     "metadata": {},
     "output_type": "execute_result"
    }
   ],
   "source": [
    "precipitation_driest_month_df.to_sql('prec_dri_mon', engine, 'climate_fproject', if_exists='replace', index = False)"
   ]
  }
 ],
 "metadata": {
  "kernelspec": {
   "display_name": "Python 3 (ipykernel)",
   "language": "python",
   "name": "python3"
  },
  "language_info": {
   "codemirror_mode": {
    "name": "ipython",
    "version": 3
   },
   "file_extension": ".py",
   "mimetype": "text/x-python",
   "name": "python",
   "nbconvert_exporter": "python",
   "pygments_lexer": "ipython3",
   "version": "3.9.13"
  }
 },
 "nbformat": 4,
 "nbformat_minor": 5
}
