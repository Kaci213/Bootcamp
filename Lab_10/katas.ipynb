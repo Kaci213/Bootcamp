{
 "cells": [
  {
   "cell_type": "raw",
   "id": "d8e689b6",
   "metadata": {},
   "source": [
    "1. Counting Sheeps"
   ]
  },
  {
   "cell_type": "code",
   "execution_count": 2,
   "id": "6302ca90",
   "metadata": {},
   "outputs": [
    {
     "data": {
      "text/plain": [
       "17"
      ]
     },
     "execution_count": 2,
     "metadata": {},
     "output_type": "execute_result"
    }
   ],
   "source": [
    "sheep1 = [True,  True,  True,  False, True,  True,  True,  True , True,  False, True,  False, True,  False, False, True , True,  True,  True,  True , False, False, True,  True ]\n",
    "\n",
    "\n",
    "def count_sheeps(sheep):\n",
    "    result = 0\n",
    "    for i in sheep:\n",
    "        if i==True:\n",
    "            result += 1\n",
    "    return(result)\n",
    "\n",
    "count_sheeps(sheep1)"
   ]
  },
  {
   "cell_type": "raw",
   "id": "2d1d18b8",
   "metadata": {},
   "source": [
    "2.Removing Elements"
   ]
  },
  {
   "cell_type": "code",
   "execution_count": 13,
   "id": "dcb92a87",
   "metadata": {},
   "outputs": [
    {
     "data": {
      "text/plain": [
       "['Hello', 'Hello Again']"
      ]
     },
     "execution_count": 13,
     "metadata": {},
     "output_type": "execute_result"
    }
   ],
   "source": [
    "array =['Hello', 'Goodbye', 'Hello Again']\n",
    "\n",
    "def remove_every_other(my_list):\n",
    "    return my_list[::2]\n",
    "\n",
    "remove_every_other(array)"
   ]
  },
  {
   "cell_type": "raw",
   "id": "0bd9bb92",
   "metadata": {},
   "source": [
    "3.Convert number to reversed array of digits"
   ]
  },
  {
   "cell_type": "code",
   "execution_count": 14,
   "id": "f91cd56d",
   "metadata": {},
   "outputs": [
    {
     "data": {
      "text/plain": [
       "[5, 4, 3, 2, 1]"
      ]
     },
     "execution_count": 14,
     "metadata": {},
     "output_type": "execute_result"
    }
   ],
   "source": [
    "number = 12345\n",
    "\n",
    "def digitize(n):\n",
    "    n=str(n)\n",
    "    rn=[]\n",
    "    for i in reversed(n):\n",
    "        rn.append(int(i))\n",
    "    return rn\n",
    "\n",
    "digitize(number)"
   ]
  },
  {
   "cell_type": "raw",
   "id": "84d1fa49",
   "metadata": {},
   "source": [
    "4.Square every digit"
   ]
  },
  {
   "cell_type": "code",
   "execution_count": 33,
   "id": "678a16cc",
   "metadata": {},
   "outputs": [
    {
     "data": {
      "text/plain": [
       "'811181'"
      ]
     },
     "execution_count": 33,
     "metadata": {},
     "output_type": "execute_result"
    }
   ],
   "source": [
    "n=9119\n",
    "import math \n",
    "\n",
    "def square_digits(num):\n",
    "    result = \"\"\n",
    "    for i in str(num):\n",
    "        result += str(int(i)**2)\n",
    "    return(int(result))\n",
    "\n",
    "square_digits(n)"
   ]
  },
  {
   "cell_type": "raw",
   "id": "e9d076b6",
   "metadata": {},
   "source": [
    "5.Counting Total Occurence Of Specific Digits"
   ]
  },
  {
   "cell_type": "code",
   "execution_count": 49,
   "id": "33a36575",
   "metadata": {},
   "outputs": [
    {
     "data": {
      "text/plain": [
       "[(1, 3), (3, 2)]"
      ]
     },
     "execution_count": 49,
     "metadata": {},
     "output_type": "execute_result"
    }
   ],
   "source": [
    "integers_list =  [1, 1, 2 ,3 ,1 ,2 ,3 ,4]\n",
    "digits_list = [1, 3]\n",
    "\n",
    "\n",
    "class List(object):\n",
    "    def count_spec_digits(self, integers_list, digits_list):\n",
    "        s = \"\".join(str(i) for i in integers_list)\n",
    "        return [(e, s.count(str(e))) for e in digits_list]\n",
    "\n",
    "l = List()\n",
    "    \n",
    "l.count_spec_digits(integers_list, digits_list)"
   ]
  }
 ],
 "metadata": {
  "kernelspec": {
   "display_name": "Python 3 (ipykernel)",
   "language": "python",
   "name": "python3"
  },
  "language_info": {
   "codemirror_mode": {
    "name": "ipython",
    "version": 3
   },
   "file_extension": ".py",
   "mimetype": "text/x-python",
   "name": "python",
   "nbconvert_exporter": "python",
   "pygments_lexer": "ipython3",
   "version": "3.9.13"
  }
 },
 "nbformat": 4,
 "nbformat_minor": 5
}
